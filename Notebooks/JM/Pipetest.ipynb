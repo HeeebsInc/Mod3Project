{
 "cells": [
  {
   "cell_type": "code",
   "execution_count": 52,
   "metadata": {},
   "outputs": [],
   "source": [
    "import pandas as pd\n",
    "import numpy as np\n",
    "import pickle\n",
    "from sklearn.model_selection import train_test_split\n",
    "from sklearn.utils import resample\n",
    "from sklearn.preprocessing import StandardScaler\n",
    "\n",
    "pd.options.display.max_rows = 35 \n",
    "pd.options.display.max_columns = None"
   ]
  },
  {
   "cell_type": "code",
   "execution_count": 53,
   "metadata": {},
   "outputs": [
    {
     "name": "stdout",
     "output_type": "stream",
     "text": [
      "(57247, 21)\n"
     ]
    },
    {
     "data": {
      "text/html": [
       "<div>\n",
       "<style scoped>\n",
       "    .dataframe tbody tr th:only-of-type {\n",
       "        vertical-align: middle;\n",
       "    }\n",
       "\n",
       "    .dataframe tbody tr th {\n",
       "        vertical-align: top;\n",
       "    }\n",
       "\n",
       "    .dataframe thead th {\n",
       "        text-align: right;\n",
       "    }\n",
       "</style>\n",
       "<table border=\"1\" class=\"dataframe\">\n",
       "  <thead>\n",
       "    <tr style=\"text-align: right;\">\n",
       "      <th></th>\n",
       "      <th>amount_tsh</th>\n",
       "      <th>gps_height</th>\n",
       "      <th>installer</th>\n",
       "      <th>longitude</th>\n",
       "      <th>latitude</th>\n",
       "      <th>basin</th>\n",
       "      <th>region</th>\n",
       "      <th>lga</th>\n",
       "      <th>ward</th>\n",
       "      <th>population</th>\n",
       "      <th>public_meeting</th>\n",
       "      <th>permit</th>\n",
       "      <th>extraction_type</th>\n",
       "      <th>management</th>\n",
       "      <th>payment</th>\n",
       "      <th>water_quality</th>\n",
       "      <th>quantity</th>\n",
       "      <th>source</th>\n",
       "      <th>waterpoint_type</th>\n",
       "      <th>target</th>\n",
       "      <th>time_passed</th>\n",
       "    </tr>\n",
       "  </thead>\n",
       "  <tbody>\n",
       "    <tr>\n",
       "      <th>0</th>\n",
       "      <td>6000.0</td>\n",
       "      <td>1390</td>\n",
       "      <td>Roman</td>\n",
       "      <td>34.938093</td>\n",
       "      <td>-9.856322</td>\n",
       "      <td>Lake Nyasa</td>\n",
       "      <td>Iringa</td>\n",
       "      <td>Ludewa</td>\n",
       "      <td>Mundindi</td>\n",
       "      <td>109.0</td>\n",
       "      <td>1</td>\n",
       "      <td>0</td>\n",
       "      <td>gravity</td>\n",
       "      <td>vwc</td>\n",
       "      <td>pay annually</td>\n",
       "      <td>soft</td>\n",
       "      <td>enough</td>\n",
       "      <td>spring</td>\n",
       "      <td>communal standpipe</td>\n",
       "      <td>0</td>\n",
       "      <td>12</td>\n",
       "    </tr>\n",
       "    <tr>\n",
       "      <th>1</th>\n",
       "      <td>0.0</td>\n",
       "      <td>1399</td>\n",
       "      <td>GRUMETI</td>\n",
       "      <td>34.698766</td>\n",
       "      <td>-2.147466</td>\n",
       "      <td>Lake Victoria</td>\n",
       "      <td>Mara</td>\n",
       "      <td>Serengeti</td>\n",
       "      <td>Natta</td>\n",
       "      <td>280.0</td>\n",
       "      <td>0</td>\n",
       "      <td>1</td>\n",
       "      <td>gravity</td>\n",
       "      <td>wug</td>\n",
       "      <td>never pay</td>\n",
       "      <td>soft</td>\n",
       "      <td>insufficient</td>\n",
       "      <td>rainwater harvesting</td>\n",
       "      <td>communal standpipe</td>\n",
       "      <td>0</td>\n",
       "      <td>3</td>\n",
       "    </tr>\n",
       "  </tbody>\n",
       "</table>\n",
       "</div>"
      ],
      "text/plain": [
       "   amount_tsh  gps_height installer  longitude  latitude          basin  \\\n",
       "0      6000.0        1390     Roman  34.938093 -9.856322     Lake Nyasa   \n",
       "1         0.0        1399   GRUMETI  34.698766 -2.147466  Lake Victoria   \n",
       "\n",
       "   region        lga      ward  population  public_meeting  permit  \\\n",
       "0  Iringa     Ludewa  Mundindi       109.0               1       0   \n",
       "1    Mara  Serengeti     Natta       280.0               0       1   \n",
       "\n",
       "  extraction_type management       payment water_quality      quantity  \\\n",
       "0         gravity        vwc  pay annually          soft        enough   \n",
       "1         gravity        wug     never pay          soft  insufficient   \n",
       "\n",
       "                 source     waterpoint_type  target  time_passed  \n",
       "0                spring  communal standpipe       0           12  \n",
       "1  rainwater harvesting  communal standpipe       0            3  "
      ]
     },
     "execution_count": 53,
     "metadata": {},
     "output_type": "execute_result"
    }
   ],
   "source": [
    "df = pd.read_csv('../../data/processed/WaterUpdated.csv').drop('id', axis = 1)\n",
    "df.target.replace({'functional': 0, 'non functional': 1, 'functional needs repair': 1}, inplace = True)\n",
    "print(df.shape)\n",
    "df.head(2)"
   ]
  },
  {
   "cell_type": "code",
   "execution_count": 54,
   "metadata": {},
   "outputs": [
    {
     "data": {
      "text/plain": [
       "Index(['amount_tsh', 'gps_height', 'installer', 'longitude', 'latitude',\n",
       "       'basin', 'region', 'lga', 'ward', 'population', 'public_meeting',\n",
       "       'permit', 'extraction_type', 'management', 'payment', 'water_quality',\n",
       "       'quantity', 'source', 'waterpoint_type', 'target', 'time_passed'],\n",
       "      dtype='object')"
      ]
     },
     "execution_count": 54,
     "metadata": {},
     "output_type": "execute_result"
    }
   ],
   "source": [
    "# standard = StandardScaler() \n",
    "df.columns"
   ]
  },
  {
   "cell_type": "code",
   "execution_count": 58,
   "metadata": {},
   "outputs": [],
   "source": [
    "new_df = df\n",
    "new_df = new_df.join(pd.get_dummies(df.extraction_type, prefix = 'extract'))\n",
    "new_df = new_df.join(pd.get_dummies(df.quantity, prefix = 'quantity'))\n",
    "new_df = new_df.join(pd.get_dummies(df.water_quality, prefix = 'quality'))\n",
    "new_df = new_df.join(pd.get_dummies(df.source, prefix = 'source'))\n",
    "new_df = new_df.join(pd.get_dummies(df.waterpoint_type, prefix = 'waterpoint'))\n",
    "\n",
    "\n",
    "unique_extract = [f'extract_{i}' for i in df.extraction_type.unique()]\n",
    "unique_waterpoint = [f'waterpoint_{i}' for i in df.waterpoint_type.unique()]\n",
    "unique_source = [f'source_{i}' for i in df.source.unique() if i != 'unknown']\n",
    "unique_quality = [f'quality_{i}' for i in df.water_quality.unique() if i != 'unknown']\n",
    "unique_quantity = [f'quantity_{i}' for i in df.quantity.unique() if i != 'unknown']\n",
    "\n",
    "col = ['amount_tsh', 'gps_height', 'basin', 'population', 'permit', 'time_passed', 'target', 'longitude', 'latitude']\n",
    "col = col + unique_extract + unique_waterpoint + unique_source + unique_quality + unique_quantity \n",
    "new_df = new_df[col]\n",
    "\n",
    "\n",
    "\n"
   ]
  },
  {
   "cell_type": "code",
   "execution_count": 16,
   "metadata": {},
   "outputs": [],
   "source": [
    "import itertools\n",
    "\n",
    "def basin_frame(basin, df):\n",
    "    \"\"\"return df from only the selected basin\"\"\"\n",
    "    basin_df = df.loc[df.basin == basin]\n",
    "    return basin_df\n",
    "\n",
    "def get_frames(df):\n",
    "    \"\"\"return dfs of each basin in df\"\"\"\n",
    "    import functools\n",
    "    basins = df.basin.unique()\n",
    "    return map(functools.partial(basin_frame, df=df), basins)\n",
    "\n",
    "def return_resamp(df):\n",
    "    \"\"\"Return a resampled df based on balance of func/nonfunc values in the target df\"\"\"\n",
    "    func_df = df.loc[df.target == 0]\n",
    "    nonfunc_df = df.loc[df.target == 1]\n",
    "    \n",
    "    # build resampled df based off of which value of target is larger (upsampling )\n",
    "    if len(func_df) > len(nonfunc_df):\n",
    "        resamp_nonfunc = resample(nonfunc_df, n_samples=len(func_df), replace=True, random_state = 10)\n",
    "        resampled_concat = pd.concat([func_df, resamp_nonfunc])\n",
    "    else:\n",
    "        resamp_func = resample(func_df, n_samples= len(nonfunc_df), replace=True, random_state = 10)\n",
    "        resampled_concat = pd.concat([nonfunc_df, resamp_func])\n",
    "\n",
    "    \n",
    "    # return resampled in X, y feature target form\n",
    "    X = resampled_concat.drop('target', axis=1)\n",
    "    y = resampled_concat[['target']]\n",
    "    return X, y\n",
    "\n",
    "# def return_resamp_feature_targets(dict_dfs):\n",
    "#     \"\"\"Return resampled X,y splits from dict of dfs\"\"\"\n",
    "#     return [*map(return_resamp, dict_dfs.values())]\n",
    "\n",
    "nya_df, vic_df, pang_df, ruv_df, int_df, tang_df, wami_df, ruf_df, rukwa_df = get_frames(df)\n",
    "\n",
    "basin_frames = {'nya_df':nya_df, 'vic_df':vic_df, 'pang_df':pang_df, 'ruv_df':ruv_df, \\\n",
    "                'int_df':int_df, 'tang_df':tang_df, 'wami_df':wami_df, 'ruf_df':ruf_df, 'rukwa_df':rukwa_df}\n",
    "\n",
    "X = list(map(lambda x: x + '.X', list(basin_frames.keys())))\n",
    "y = list(map(lambda x: x + '.y', list(basin_frames.keys())))\n",
    "X_train = [*map(lambda x: x + '_train', X)]\n",
    "X_test = [*map(lambda x: x + '_test', X)]\n",
    "y_train = [*map(lambda x: x + '_train', y)]\n",
    "y_test = [*map(lambda x: x + '_test', y)]\n",
    "\n",
    "\n",
    "resamp_frames = [(X[i], y[i]) for i in range(len(X))]\n",
    "\n",
    "# resamp_frames = return_resamp_feature_targets(basin_frames)"
   ]
  },
  {
   "cell_type": "code",
   "execution_count": 20,
   "metadata": {},
   "outputs": [
    {
     "data": {
      "text/plain": [
       "Index(['amount_tsh', 'gps_height', 'installer', 'longitude', 'latitude',\n",
       "       'basin', 'region', 'lga', 'ward', 'population', 'public_meeting',\n",
       "       'permit', 'extraction_type', 'management', 'payment', 'water_quality',\n",
       "       'quantity', 'source', 'waterpoint_type', 'time_passed'],\n",
       "      dtype='object')"
      ]
     },
     "execution_count": 20,
     "metadata": {},
     "output_type": "execute_result"
    }
   ],
   "source": [
    "nya = basin_frames['nya_df']\n",
    "nya.X, nya.y = return_resamp(nya)\n",
    "nya.X.columns"
   ]
  },
  {
   "cell_type": "code",
   "execution_count": 41,
   "metadata": {},
   "outputs": [
    {
     "data": {
      "text/plain": [
       "[('nya_df.X_train', 'nya_df.X_test', 'nya_df.y_train', 'nya_df.y_test'),\n",
       " ('vic_df.X_train', 'vic_df.X_test', 'vic_df.y_train', 'vic_df.y_test'),\n",
       " ('pang_df.X_train', 'pang_df.X_test', 'pang_df.y_train', 'pang_df.y_test'),\n",
       " ('ruv_df.X_train', 'ruv_df.X_test', 'ruv_df.y_train', 'ruv_df.y_test'),\n",
       " ('int_df.X_train', 'int_df.X_test', 'int_df.y_train', 'int_df.y_test'),\n",
       " ('tang_df.X_train', 'tang_df.X_test', 'tang_df.y_train', 'tang_df.y_test'),\n",
       " ('wami_df.X_train', 'wami_df.X_test', 'wami_df.y_train', 'wami_df.y_test'),\n",
       " ('ruf_df.X_train', 'ruf_df.X_test', 'ruf_df.y_train', 'ruf_df.y_test'),\n",
       " ('rukwa_df.X_train',\n",
       "  'rukwa_df.X_test',\n",
       "  'rukwa_df.y_train',\n",
       "  'rukwa_df.y_test')]"
      ]
     },
     "execution_count": 41,
     "metadata": {},
     "output_type": "execute_result"
    }
   ],
   "source": [
    "train_tests = [*zip(X_train, X_test, y_train, y_test)]\n",
    "train_tests"
   ]
  },
  {
   "cell_type": "code",
   "execution_count": 47,
   "metadata": {},
   "outputs": [
    {
     "name": "stdout",
     "output_type": "stream",
     "text": [
      "nya_df.X_train, nya_df.X_test, nya_df.y_train, nya_df.y_test\n",
      "vic_df.X_train, vic_df.X_test, vic_df.y_train, vic_df.y_test\n",
      "pang_df.X_train, pang_df.X_test, pang_df.y_train, pang_df.y_test\n",
      "ruv_df.X_train, ruv_df.X_test, ruv_df.y_train, ruv_df.y_test\n",
      "int_df.X_train, int_df.X_test, int_df.y_train, int_df.y_test\n",
      "tang_df.X_train, tang_df.X_test, tang_df.y_train, tang_df.y_test\n",
      "wami_df.X_train, wami_df.X_test, wami_df.y_train, wami_df.y_test\n",
      "ruf_df.X_train, ruf_df.X_test, ruf_df.y_train, ruf_df.y_test\n",
      "rukwa_df.X_train, rukwa_df.X_test, rukwa_df.y_train, rukwa_df.y_test\n"
     ]
    }
   ],
   "source": [
    "nya_df.X_train, nya_df.X_test, nya_df.y_train, nya_df.y_test = \n",
    "vic_df.X_train, vic_df.X_test, vic_df.y_train, vic_df.y_test =\n",
    "pang_df.X_train, pang_df.X_test, pang_df.y_train, pang_df.y_test =\n",
    "ruv_df.X_train, ruv_df.X_test, ruv_df.y_train, ruv_df.y_test =\n",
    "int_df.X_train, int_df.X_test, int_df.y_train, int_df.y_test =\n",
    "tang_df.X_train, tang_df.X_test, tang_df.y_train, tang_df.y_test =\n",
    "wami_df.X_train, wami_df.X_test, wami_df.y_train, wami_df.y_test =\n",
    "ruf_df.X_train, ruf_df.X_test, ruf_df.y_train, ruf_df.y_test =\n",
    "rukwa_df.X_train, rukwa_df.X_test, rukwa_df.y_train, rukwa_df.y_test ="
   ]
  },
  {
   "cell_type": "code",
   "execution_count": 60,
   "metadata": {},
   "outputs": [
    {
     "data": {
      "text/plain": [
       "array(['Lake Nyasa', 'Lake Victoria', 'Pangani',\n",
       "       'Ruvuma / Southern Coast', 'Internal', 'Lake Tanganyika',\n",
       "       'Wami / Ruvu', 'Rufiji', 'Lake Rukwa'], dtype=object)"
      ]
     },
     "execution_count": 60,
     "metadata": {},
     "output_type": "execute_result"
    }
   ],
   "source": [
    "new_df.basin.unique()"
   ]
  },
  {
   "cell_type": "code",
   "execution_count": 72,
   "metadata": {},
   "outputs": [
    {
     "data": {
      "text/plain": [
       "1    2482\n",
       "0    2482\n",
       "Name: target, dtype: int64"
      ]
     },
     "execution_count": 72,
     "metadata": {},
     "output_type": "execute_result"
    }
   ],
   "source": [
    "train_test_dict = {}\n",
    "for basin in new_df.basin.unique():\n",
    "    df_temp = new_df.loc[new_df['basin'] == basin]\n",
    "    x_train, x_test, y_train, y_test  = train_test_split(df_temp, df_temp[['target']], stratify = df_temp.target.values, train_size = .75, random_state=13)\n",
    "    x_train, y_train = return_resamp(x_train)\n",
    "    x_test = x_test.drop('target', axis=1)\n",
    "    \n",
    "    basin_dict = dict(x_train=x_train, x_test=x_test, y_train=y_train, y_test=y_test)\n",
    "    train_test_dict[basin] = basin_dict\n",
    "    \n",
    "train_test_dict['Lake Nyasa']['y_train'].target.value_counts()"
   ]
  },
  {
   "cell_type": "code",
   "execution_count": 20,
   "metadata": {},
   "outputs": [
    {
     "data": {
      "text/plain": [
       "['Lake Nyasa',\n",
       " 'Lake Victoria',\n",
       " 'Pangani',\n",
       " 'Ruvuma / Southern Coast',\n",
       " 'Internal',\n",
       " 'Lake Tanganyika',\n",
       " 'Wami / Ruvu',\n",
       " 'Rufiji',\n",
       " 'Lake Rukwa']"
      ]
     },
     "execution_count": 20,
     "metadata": {},
     "output_type": "execute_result"
    }
   ],
   "source": [
    "basins = df.basin.unique()\n",
    "[*map(lambda x: x, basins)]"
   ]
  },
  {
   "cell_type": "code",
   "execution_count": null,
   "metadata": {},
   "outputs": [],
   "source": [
    "#print(len(X), len(new_df))\n",
    "\n",
    "# pickle.dump(X.drop('target', axis = 1), open('../../data/processed/pickles/X.p', 'wb'))\n",
    "# pickle.dump(y, open('../../data/processed/pickles/y.p', 'wb'))\n",
    "\n",
    "# x_train, x_test, y_train, y_test = train_test_split(X,y, stratify = X.target, random_state = 10, train_size = .85)\n",
    "# print(y_train.target.value_counts(), y_test.target.value_counts())\n",
    "# x_train = x_train.drop('target', axis =1)\n",
    "# x_test = x_test.drop('target', axis =1)\n",
    "\n",
    "# pickle.dump(y_test, open('../../data/processed/pickles/y_test.p', 'wb'))\n",
    "# pickle.dump(y_train, open('../../data/processed/pickles/y_train.p', 'wb'))\n",
    "# pickle.dump(x_train, open('../../data/processed/pickles/x_train.p', 'wb'))\n",
    "# pickle.dump(x_test, open('../../data/processed/pickles/x_test.p', 'wb'))"
   ]
  },
  {
   "cell_type": "code",
   "execution_count": null,
   "metadata": {},
   "outputs": [],
   "source": [
    "def cost_function(model, trip_cost, undetected_cost):\n",
    "    \"\"\"return savings or cost of using model vs. sending humans to check each well\"\"\"\n",
    "    # save the cost of a trip for all correct predictions (does not account for potential early detection savings)\n",
    "    savings = trip_cost * model.true_positives + trip_cost * model.true_negatives\n",
    "    # cost the cost of leaving a broken well * wells incorrectly predicted as functioning + the cost of sending\n",
    "    # labor to an incorrectly predicted nonfunctioning well\n",
    "    cost = undetected_cost * model.false_negatives + trip_cost * model.false_positives\n",
    "    return savings - cost"
   ]
  }
 ],
 "metadata": {
  "kernelspec": {
   "display_name": "Python 3",
   "language": "python",
   "name": "python3"
  },
  "language_info": {
   "codemirror_mode": {
    "name": "ipython",
    "version": 3
   },
   "file_extension": ".py",
   "mimetype": "text/x-python",
   "name": "python",
   "nbconvert_exporter": "python",
   "pygments_lexer": "ipython3",
   "version": "3.7.6"
  }
 },
 "nbformat": 4,
 "nbformat_minor": 4
}
