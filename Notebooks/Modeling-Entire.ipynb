{
 "cells": [
  {
   "cell_type": "code",
   "execution_count": 2,
   "metadata": {},
   "outputs": [],
   "source": [
    "from sklearn.linear_model import LogisticRegression, SGDClassifier, RidgeClassifier\n",
    "from sklearn.naive_bayes import GaussianNB, MultinomialNB\n",
    "from sklearn.svm import SVC,LinearSVC\n",
    "from sklearn.neighbors import KNeighborsClassifier\n",
    "from sklearn.model_selection import RepeatedStratifiedKFold, cross_val_score, GridSearchCV\n",
    "from sklearn.metrics import classification_report\n",
    "import matplotlib.pyplot as plt\n",
    "from sklearn.tree import DecisionTreeClassifier\n",
    "from sklearn.ensemble import RandomForestClassifier, StackingClassifier, BaggingClassifier, AdaBoostClassifier\n",
    "from sklearn.discriminant_analysis import LinearDiscriminantAnalysis\n",
    "from tqdm import tqdm\n",
    "from sklearn.preprocessing import StandardScaler\n",
    "\n",
    "import pickle\n",
    "import pandas as pd\n",
    "\n",
    "pd.options.display.max_rows = 35 \n",
    "pd.options.display.max_columns = None"
   ]
  },
  {
   "cell_type": "code",
   "execution_count": 3,
   "metadata": {},
   "outputs": [
    {
     "name": "stdout",
     "output_type": "stream",
     "text": [
      "Original X: (57247, 53)\tOriginal y: (57247, 1)\n",
      "Train X: (38090, 53)\tTrain y: (38090, 1)\n",
      "Test X: (8588, 53)\tTest y: (8588, 1)\n"
     ]
    }
   ],
   "source": [
    "def get_pickles(): \n",
    "    x_train = pickle.load(open(f'../data/processed/pickles/x_train.p', 'rb'))\n",
    "    x_test = pickle.load(open(f'../data/processed/pickles/x_test.p', 'rb'))\n",
    "    y_train = pickle.load(open(f'../data/processed/pickles/y_train.p', 'rb'))\n",
    "    y_test = pickle.load(open(f'../data/processed/pickles/y_test.p', 'rb'))\n",
    "    X = pickle.load(open('../data/processed/pickles/X.p', 'rb'))\n",
    "    y = pickle.load(open('../data/processed/pickles/y.p', 'rb'))\n",
    "\n",
    "    return (x_train, x_test, y_train, y_test), (X,y)\n",
    "\n",
    "(x_train, x_test, y_train, y_test), (X,y) = get_pickles()\n",
    "\n",
    "\n",
    "print(f'Original X: {X.shape}\\tOriginal y: {y.shape}')\n",
    "print(f'Train X: {x_train.shape}\\tTrain y: {y_train.shape}')\n",
    "print(f'Test X: {x_test.shape}\\tTest y: {y_test.shape}')\n",
    "\n",
    "y_train = y_train.target.values.ravel()\n",
    "y_test = y_test.target.values.ravel()\n",
    "y = y.target.values.ravel()\n",
    "\n",
    "standard = StandardScaler() \n",
    "x_train[['amount_tsh', 'gps_height', \n",
    "         'population', 'time_passed']] = standard.fit_transform(x_train[['amount_tsh', \n",
    "                                                                         'gps_height', 'population', 'time_passed']])"
   ]
  },
  {
   "cell_type": "code",
   "execution_count": null,
   "metadata": {},
   "outputs": [],
   "source": []
  },
  {
   "cell_type": "markdown",
   "metadata": {},
   "source": [
    "### Baseline Testing for Models and Stacked"
   ]
  },
  {
   "cell_type": "code",
   "execution_count": 4,
   "metadata": {},
   "outputs": [
    {
     "name": "stderr",
     "output_type": "stream",
     "text": [
      "Evaluating STACKED: 100%|████████████████████████████████████████████████████████████████████████████████████████████████████████████████████████████████| 12/12 [29:47<00:00, 148.98s/it]\n"
     ]
    }
   ],
   "source": [
    "\n",
    "\n",
    "models = {'log': LogisticRegression(),\n",
    "          'knn': KNeighborsClassifier(),\n",
    "          'dt': DecisionTreeClassifier(), 'Gaussian': GaussianNB(), 'LDA': LinearDiscriminantAnalysis(),\n",
    "           'LinearSVC': LinearSVC(max_iter = 1250), 'SDGSVC': SGDClassifier(),  \n",
    "          'ada': AdaBoostClassifier(), \n",
    "            'Bagging': BaggingClassifier(), 'ridge': RidgeClassifier(), \n",
    "          'rf': RandomForestClassifier(),\n",
    "        }\n",
    "#create stacked model\n",
    "stack_m = [] \n",
    "for model, m in models.items(): \n",
    "    stack_m.append((model, m))\n",
    "stack_model = StackingClassifier(estimators = stack_m, final_estimator = LogisticRegression(), cv = 5)\n",
    "models['stacked'] = stack_model\n",
    "\n",
    "#test each model and stacking\n",
    "results = []\n",
    "model_names = []\n",
    "pbar = tqdm(models.items())\n",
    "for model, m in pbar: \n",
    "    pbar.set_description(f'Evaluating {model.upper()}')\n",
    "    cv = RepeatedStratifiedKFold(n_splits = 10, n_repeats = 5)\n",
    "    scores = cross_val_score(m, X, y, scoring = 'accuracy', cv = cv, n_jobs = 14, \n",
    "                             error_score = 'raise')\n",
    "    results.append(scores)\n",
    "    model_names.append(model)\n",
    "    "
   ]
  },
  {
   "cell_type": "code",
   "execution_count": 6,
   "metadata": {},
   "outputs": [],
   "source": [
    "vanilla_dict = {i:y for i,y in zip(model_names, results)}\n",
    "pickle.dump(vanilla_dict, open('../models/VanillaResults.p', 'wb'))"
   ]
  },
  {
   "cell_type": "code",
   "execution_count": 7,
   "metadata": {},
   "outputs": [
    {
     "data": {
      "image/png": "[encoded data removed]",
      "text/plain": [
       "<Figure size 720x576 with 1 Axes>"
      ]
     },
     "metadata": {
      "needs_background": "light"
     },
     "output_type": "display_data"
    }
   ],
   "source": [
    "plt.figure(figsize = (10,8))\n",
    "plt.boxplot(results, labels = model_names, showmeans = True)\n",
    "plt.title('Accuracy for Each Vanilla Model')\n",
    "plt.ylabel('Accuracy'); plt.xlabel('Model')\n",
    "plt.savefig('figures/BaselineAccuracy.png')\n",
    "plt.show()"
   ]
  },
  {
   "cell_type": "code",
   "execution_count": null,
   "metadata": {},
   "outputs": [],
   "source": []
  }
 ],
 "metadata": {
  "kernelspec": {
   "display_name": "Python 3",
   "language": "python",
   "name": "python3"
  },
  "language_info": {
   "codemirror_mode": {
    "name": "ipython",
    "version": 3
   },
   "file_extension": ".py",
   "mimetype": "text/x-python",
   "name": "python",
   "nbconvert_exporter": "python",
   "pygments_lexer": "ipython3",
   "version": "3.7.6"
  }
 },
 "nbformat": 4,
 "nbformat_minor": 4
}
