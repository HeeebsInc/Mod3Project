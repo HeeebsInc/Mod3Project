{
 "cells": [
  {
   "cell_type": "code",
   "execution_count": 31,
   "metadata": {},
   "outputs": [],
   "source": [
    "from sklearn.linear_model import LogisticRegression, SGDClassifier, RidgeClassifier\n",
    "from sklearn.naive_bayes import GaussianNB, MultinomialNB\n",
    "from sklearn.svm import SVC,LinearSVC\n",
    "from sklearn.neighbors import KNeighborsClassifier\n",
    "from sklearn.model_selection import RepeatedStratifiedKFold, cross_val_score, GridSearchCV, RandomizedSearchCV\n",
    "from sklearn.metrics import classification_report, plot_confusion_matrix, confusion_matrix\n",
    "import matplotlib.pyplot as plt\n",
    "from sklearn.tree import DecisionTreeClassifier\n",
    "from sklearn.ensemble import RandomForestClassifier, StackingClassifier, BaggingClassifier, AdaBoostClassifier\n",
    "from sklearn.discriminant_analysis import LinearDiscriminantAnalysis\n",
    "from tqdm import tqdm\n",
    "from sklearn.preprocessing import StandardScaler\n",
    "\n",
    "import pickle\n",
    "import pandas as pd\n",
    "\n",
    "pd.options.display.max_rows = 35 \n",
    "pd.options.display.max_columns = None"
   ]
  },
  {
   "cell_type": "code",
   "execution_count": null,
   "metadata": {},
   "outputs": [],
   "source": []
  },
  {
   "cell_type": "code",
   "execution_count": 32,
   "metadata": {},
   "outputs": [
    {
     "name": "stdout",
     "output_type": "stream",
     "text": [
      "Original X: (57247, 45)\tOriginal y: (57247, 1)\n",
      "Train X: (42935, 45)\tTrain y: (42935, 1)\n",
      "Test X: (14312, 45)\tTest y: (14312, 1)\n"
     ]
    }
   ],
   "source": [
    "def get_pickles(): \n",
    "    x_train = pickle.load(open(f'../../data/processed/pickles/basin_x_train.p', 'rb'))\n",
    "    x_test = pickle.load(open(f'../../data/processed/pickles/basin_x_test.p', 'rb'))\n",
    "    y_train = pickle.load(open(f'../../data/processed/pickles/basin_y_train.p', 'rb'))\n",
    "    y_test = pickle.load(open(f'../../data/processed/pickles/basin_y_test.p', 'rb'))\n",
    "    X = pickle.load(open('../../data/processed/pickles/basin_X.p', 'rb'))\n",
    "    y = pickle.load(open('../../data/processed/pickles/basin_y.p', 'rb'))\n",
    "\n",
    "    return (x_train, x_test, y_train, y_test), (X,y)\n",
    "\n",
    "(x_train, x_test, y_train, y_test), (X,y) = get_pickles()\n",
    "\n",
    "unique_basin = X.basin.unique() \n",
    "print(f'Original X: {X.shape}\\tOriginal y: {y.shape}')\n",
    "print(f'Train X: {x_train.shape}\\tTrain y: {y_train.shape}')\n",
    "print(f'Test X: {x_test.shape}\\tTest y: {y_test.shape}')\n",
    "\n",
    "y_train = y_train.target.values.ravel()\n",
    "y_test = y_test.target.values.ravel()\n",
    "y = y.target.values.ravel()\n",
    "\n",
    "standard = StandardScaler() \n",
    "x_train[['amount_tsh', 'gps_height', \n",
    "         'population', 'time_passed']] = standard.fit_transform(x_train[['amount_tsh', \n",
    "                                                                         'gps_height', 'population', 'time_passed']])"
   ]
  },
  {
   "cell_type": "code",
   "execution_count": 16,
   "metadata": {},
   "outputs": [],
   "source": [
    "X['target'] = y\n",
    "x_test['target'] = y_test\n",
    "x_train['target'] = y_train"
   ]
  },
  {
   "cell_type": "code",
   "execution_count": 70,
   "metadata": {},
   "outputs": [],
   "source": [
    "import os \n",
    "from mlxtend.classifier import StackingCVClassifier\n",
    "\n",
    "\n",
    "scores = []\n",
    "basins = []\n",
    "basin_model_dict= {} \n",
    "pbar = os.listdir('../../data/processed/pickles/basins/')\n",
    "for i in os.listdir('../../data/processed/pickles/basins/'):\n",
    "    if i == '.DS_Store': \n",
    "        continue \n",
    "    basins.append(i)\n",
    "    #pbar.set_description(f'Testing Classifier for: {i.upper()}')\n",
    "    x_train = pickle.load(open(f'../../data/processed/pickles/basins/{i}/x_train.p', 'rb'))\n",
    "    x_test = pickle.load(open(f'../../data/processed/pickles/basins/{i}/x_test.p', 'rb'))\n",
    "    y_train = pickle.load(open(f'../../data/processed/pickles/basins/{i}/y_train.p', 'rb'))\n",
    "    y_test = pickle.load(open(f'../../data/processed/pickles/basins/{i}/y_test.p', 'rb'))\n",
    "    \n",
    "    x_train.drop('basin', axis =1, inplace = True)\n",
    "    x_test.drop('basin', axis =1, inplace = True)\n",
    "    y_train = y_train.values.ravel()\n",
    "    y_test = y_test.values.ravel()   \n",
    "    \n",
    "   \n",
    "    standard = StandardScaler()\n",
    "    x_train[['amount_tsh', 'gps_height', 'population', 'time_passed', 'longitude', 'latitude']] = standard.fit_transform(\n",
    "                                 x_train[['amount_tsh', 'gps_height', 'population', 'time_passed', 'longitude', 'latitude']]\n",
    "    )\n",
    "    x_test[['amount_tsh', 'gps_height', 'population', 'time_passed', 'longitude', 'latitude']] = standard.fit_transform(\n",
    "        x_test[['amount_tsh', 'gps_height', 'population', 'time_passed', 'longitude', 'latitude']]\n",
    "    )\n",
    "    cv = RepeatedStratifiedKFold(n_splits = 5, n_repeats = 3)\n",
    "    classifiers = [DecisionTreeClassifier(), RandomForestClassifier()]\n",
    "    sclf = StackingCVClassifier(classifiers = classifiers, meta_classifier = LogisticRegression(), random_state = 10)\n",
    "\n",
    "    params = {\n",
    "    'decisiontreeclassifier__criterion': ['gini', 'entropy'],\n",
    "    'decisiontreeclassifier__splitter': ['best', 'random'],\n",
    "    'decisiontreeclassifier__max_depth': [None, 125, 500, 1000],\n",
    "    'decisiontreeclassifier__min_samples_split': [8, 10, 15],\n",
    "    'decisiontreeclassifier__min_samples_leaf': [3, 5, 10], \n",
    "    'decisiontreeclassifier__max_features': ['auto', 'sqrt', 'log2'],\n",
    "    'decisiontreeclassifier__max_leaf_nodes': [None, 25,  50],\n",
    "    \n",
    "    'randomforestclassifier__criterion': ['gini', 'entropy'],\n",
    "    'randomforestclassifier__max_depth': [None, 50, 100, 150, 200],\n",
    "    'randomforestclassifier__min_samples_split': [8,10, 15],\n",
    "    'randomforestclassifier__min_samples_leaf': [3, 5, 10],\n",
    "    'randomforestclassifier__max_features': ['auto', 'sqrt', 'log2'],\n",
    "    'randomforestclassifier__max_leaf_nodes': [None, 25, 50], \n",
    "    'randomforestclassifier__bootstrap': [False, True],\n",
    "      \n",
    "    'meta_classifier__C': [.1, .5, 1, 1.25, 1.5, 2], \n",
    "    'meta_classifier__max_iter': [100, 1000,2000],\n",
    "    'meta_classifier__penalty': ['l1', 'l2'],\n",
    "    'meta_classifier__solver': ['sag', 'saga', 'liblinear', 'lbfgs', 'newton-cg'],\n",
    "    'meta_classifier__multi_class': ['ovr', 'multinomial']    \n",
    "}\n",
    "    cv = RepeatedStratifiedKFold(n_splits = 5, n_repeats = 3)\n",
    "    gs = RandomizedSearchCV(estimator = sclf, param_distributions = params, cv = cv, n_jobs = 13, verbose = 1, n_iter = 13)\n",
    "    gs.fit(x_train,y_train)\n",
    "    pickle.dump(gs, open(f'../../models/Basins/{i}_GridSearch.p', 'wb'))\n",
    "    basin_dict = dict(model = gs, x_train = x_train, y_train = y_train, x_test = x_test, y_test = y_test) \n",
    "    basin_model_dict[i] = basin_dict\n",
    "    \n",
    "\n",
    "    "
   ]
  },
  {
   "cell_type": "code",
   "execution_count": 36,
   "metadata": {
    "scrolled": true
   },
   "outputs": [
    {
     "name": "stdout",
     "output_type": "stream",
     "text": [
      "Fitting 35 folds for each of 75 candidates, totalling 2625 fits\n"
     ]
    },
    {
     "name": "stderr",
     "output_type": "stream",
     "text": [
      "[Parallel(n_jobs=13)]: Using backend LokyBackend with 13 concurrent workers.\n",
      "[Parallel(n_jobs=13)]: Done  15 tasks      | elapsed:    3.0s\n",
      "[Parallel(n_jobs=13)]: Done 136 tasks      | elapsed:   10.4s\n",
      "[Parallel(n_jobs=13)]: Done 339 tasks      | elapsed:   21.5s\n",
      "[Parallel(n_jobs=13)]: Done 622 tasks      | elapsed:   37.4s\n",
      "[Parallel(n_jobs=13)]: Done 987 tasks      | elapsed:   57.0s\n",
      "[Parallel(n_jobs=13)]: Done 1432 tasks      | elapsed:  1.4min\n",
      "[Parallel(n_jobs=13)]: Done 1959 tasks      | elapsed:  1.9min\n",
      "[Parallel(n_jobs=13)]: Done 2566 tasks      | elapsed:  2.5min\n",
      "[Parallel(n_jobs=13)]: Done 2625 out of 2625 | elapsed:  2.5min finished\n"
     ]
    },
    {
     "name": "stdout",
     "output_type": "stream",
     "text": [
      "Fitting 35 folds for each of 75 candidates, totalling 2625 fits\n"
     ]
    },
    {
     "name": "stderr",
     "output_type": "stream",
     "text": [
      "[Parallel(n_jobs=13)]: Using backend LokyBackend with 13 concurrent workers.\n",
      "[Parallel(n_jobs=13)]: Done  15 tasks      | elapsed:    0.8s\n",
      "[Parallel(n_jobs=13)]: Done 136 tasks      | elapsed:    5.2s\n",
      "[Parallel(n_jobs=13)]: Done 339 tasks      | elapsed:   12.8s\n",
      "[Parallel(n_jobs=13)]: Done 622 tasks      | elapsed:   23.7s\n",
      "[Parallel(n_jobs=13)]: Done 987 tasks      | elapsed:   37.1s\n",
      "[Parallel(n_jobs=13)]: Done 1432 tasks      | elapsed:   53.1s\n",
      "[Parallel(n_jobs=13)]: Done 1959 tasks      | elapsed:  1.2min\n",
      "[Parallel(n_jobs=13)]: Done 2566 tasks      | elapsed:  1.6min\n",
      "[Parallel(n_jobs=13)]: Done 2625 out of 2625 | elapsed:  1.6min finished\n"
     ]
    },
    {
     "name": "stdout",
     "output_type": "stream",
     "text": [
      "Fitting 35 folds for each of 75 candidates, totalling 2625 fits\n"
     ]
    },
    {
     "name": "stderr",
     "output_type": "stream",
     "text": [
      "[Parallel(n_jobs=13)]: Using backend LokyBackend with 13 concurrent workers.\n",
      "[Parallel(n_jobs=13)]: Done  15 tasks      | elapsed:    2.1s\n",
      "[Parallel(n_jobs=13)]: Done 136 tasks      | elapsed:    9.2s\n",
      "[Parallel(n_jobs=13)]: Done 339 tasks      | elapsed:   22.1s\n",
      "[Parallel(n_jobs=13)]: Done 622 tasks      | elapsed:   41.1s\n",
      "[Parallel(n_jobs=13)]: Done 987 tasks      | elapsed:  1.1min\n",
      "[Parallel(n_jobs=13)]: Done 1432 tasks      | elapsed:  1.6min\n",
      "[Parallel(n_jobs=13)]: Done 1959 tasks      | elapsed:  2.1min\n",
      "[Parallel(n_jobs=13)]: Done 2566 tasks      | elapsed:  2.8min\n",
      "[Parallel(n_jobs=13)]: Done 2625 out of 2625 | elapsed:  2.9min finished\n"
     ]
    },
    {
     "name": "stdout",
     "output_type": "stream",
     "text": [
      "Fitting 35 folds for each of 75 candidates, totalling 2625 fits\n"
     ]
    },
    {
     "name": "stderr",
     "output_type": "stream",
     "text": [
      "[Parallel(n_jobs=13)]: Using backend LokyBackend with 13 concurrent workers.\n",
      "[Parallel(n_jobs=13)]: Done  15 tasks      | elapsed:    1.8s\n",
      "[Parallel(n_jobs=13)]: Done 136 tasks      | elapsed:    8.8s\n",
      "[Parallel(n_jobs=13)]: Done 339 tasks      | elapsed:   22.4s\n",
      "[Parallel(n_jobs=13)]: Done 622 tasks      | elapsed:   40.1s\n",
      "[Parallel(n_jobs=13)]: Done 987 tasks      | elapsed:  1.0min\n",
      "[Parallel(n_jobs=13)]: Done 1432 tasks      | elapsed:  1.5min\n",
      "[Parallel(n_jobs=13)]: Done 1959 tasks      | elapsed:  2.1min\n",
      "[Parallel(n_jobs=13)]: Done 2566 tasks      | elapsed:  2.7min\n",
      "[Parallel(n_jobs=13)]: Done 2625 out of 2625 | elapsed:  2.7min finished\n"
     ]
    },
    {
     "name": "stdout",
     "output_type": "stream",
     "text": [
      "Fitting 35 folds for each of 75 candidates, totalling 2625 fits\n"
     ]
    },
    {
     "name": "stderr",
     "output_type": "stream",
     "text": [
      "[Parallel(n_jobs=13)]: Using backend LokyBackend with 13 concurrent workers.\n",
      "[Parallel(n_jobs=13)]: Done  15 tasks      | elapsed:    0.7s\n",
      "[Parallel(n_jobs=13)]: Done 136 tasks      | elapsed:    3.6s\n",
      "[Parallel(n_jobs=13)]: Done 339 tasks      | elapsed:    8.7s\n",
      "[Parallel(n_jobs=13)]: Done 622 tasks      | elapsed:   15.9s\n",
      "[Parallel(n_jobs=13)]: Done 987 tasks      | elapsed:   24.7s\n",
      "[Parallel(n_jobs=13)]: Done 1432 tasks      | elapsed:   36.2s\n",
      "[Parallel(n_jobs=13)]: Done 1959 tasks      | elapsed:   49.9s\n",
      "[Parallel(n_jobs=13)]: Done 2566 tasks      | elapsed:  1.1min\n",
      "[Parallel(n_jobs=13)]: Done 2625 out of 2625 | elapsed:  1.1min finished\n"
     ]
    },
    {
     "name": "stdout",
     "output_type": "stream",
     "text": [
      "Fitting 35 folds for each of 75 candidates, totalling 2625 fits\n"
     ]
    },
    {
     "name": "stderr",
     "output_type": "stream",
     "text": [
      "[Parallel(n_jobs=13)]: Using backend LokyBackend with 13 concurrent workers.\n",
      "[Parallel(n_jobs=13)]: Done  15 tasks      | elapsed:    0.9s\n",
      "[Parallel(n_jobs=13)]: Done 136 tasks      | elapsed:    5.4s\n",
      "[Parallel(n_jobs=13)]: Done 339 tasks      | elapsed:   12.9s\n",
      "[Parallel(n_jobs=13)]: Done 622 tasks      | elapsed:   23.3s\n",
      "[Parallel(n_jobs=13)]: Done 987 tasks      | elapsed:   37.6s\n",
      "[Parallel(n_jobs=13)]: Done 1432 tasks      | elapsed:   54.0s\n",
      "[Parallel(n_jobs=13)]: Done 1959 tasks      | elapsed:  1.2min\n",
      "[Parallel(n_jobs=13)]: Done 2566 tasks      | elapsed:  1.6min\n",
      "[Parallel(n_jobs=13)]: Done 2625 out of 2625 | elapsed:  1.7min finished\n"
     ]
    },
    {
     "name": "stdout",
     "output_type": "stream",
     "text": [
      "Fitting 35 folds for each of 75 candidates, totalling 2625 fits\n"
     ]
    },
    {
     "name": "stderr",
     "output_type": "stream",
     "text": [
      "[Parallel(n_jobs=13)]: Using backend LokyBackend with 13 concurrent workers.\n",
      "[Parallel(n_jobs=13)]: Done  15 tasks      | elapsed:    0.9s\n",
      "[Parallel(n_jobs=13)]: Done 136 tasks      | elapsed:    6.0s\n",
      "[Parallel(n_jobs=13)]: Done 339 tasks      | elapsed:   14.9s\n",
      "[Parallel(n_jobs=13)]: Done 622 tasks      | elapsed:   26.9s\n",
      "[Parallel(n_jobs=13)]: Done 987 tasks      | elapsed:   42.2s\n",
      "[Parallel(n_jobs=13)]: Done 1432 tasks      | elapsed:  1.0min\n",
      "[Parallel(n_jobs=13)]: Done 1959 tasks      | elapsed:  1.4min\n",
      "[Parallel(n_jobs=13)]: Done 2566 tasks      | elapsed:  1.9min\n",
      "[Parallel(n_jobs=13)]: Done 2625 out of 2625 | elapsed:  1.9min finished\n"
     ]
    },
    {
     "name": "stdout",
     "output_type": "stream",
     "text": [
      "Fitting 35 folds for each of 75 candidates, totalling 2625 fits\n"
     ]
    },
    {
     "name": "stderr",
     "output_type": "stream",
     "text": [
      "[Parallel(n_jobs=13)]: Using backend LokyBackend with 13 concurrent workers.\n",
      "[Parallel(n_jobs=13)]: Done  15 tasks      | elapsed:    1.1s\n",
      "[Parallel(n_jobs=13)]: Done 136 tasks      | elapsed:    8.1s\n",
      "[Parallel(n_jobs=13)]: Done 339 tasks      | elapsed:   20.1s\n",
      "[Parallel(n_jobs=13)]: Done 622 tasks      | elapsed:   37.7s\n",
      "[Parallel(n_jobs=13)]: Done 987 tasks      | elapsed:   58.9s\n",
      "[Parallel(n_jobs=13)]: Done 1432 tasks      | elapsed:  1.4min\n",
      "[Parallel(n_jobs=13)]: Done 1959 tasks      | elapsed:  1.9min\n",
      "[Parallel(n_jobs=13)]: Done 2566 tasks      | elapsed:  2.5min\n",
      "[Parallel(n_jobs=13)]: Done 2625 out of 2625 | elapsed:  2.6min finished\n"
     ]
    },
    {
     "name": "stdout",
     "output_type": "stream",
     "text": [
      "Fitting 35 folds for each of 75 candidates, totalling 2625 fits\n"
     ]
    },
    {
     "name": "stderr",
     "output_type": "stream",
     "text": [
      "[Parallel(n_jobs=13)]: Using backend LokyBackend with 13 concurrent workers.\n",
      "[Parallel(n_jobs=13)]: Done  15 tasks      | elapsed:    0.8s\n",
      "[Parallel(n_jobs=13)]: Done 136 tasks      | elapsed:    5.1s\n",
      "[Parallel(n_jobs=13)]: Done 339 tasks      | elapsed:   13.5s\n",
      "[Parallel(n_jobs=13)]: Done 622 tasks      | elapsed:   25.8s\n",
      "[Parallel(n_jobs=13)]: Done 987 tasks      | elapsed:   41.6s\n",
      "[Parallel(n_jobs=13)]: Done 1432 tasks      | elapsed:  1.0min\n",
      "[Parallel(n_jobs=13)]: Done 1959 tasks      | elapsed:  1.4min\n",
      "[Parallel(n_jobs=13)]: Done 2566 tasks      | elapsed:  1.8min\n",
      "[Parallel(n_jobs=13)]: Done 2625 out of 2625 | elapsed:  1.8min finished\n"
     ]
    }
   ],
   "source": [
    "import os \n",
    "\n",
    "scores = []\n",
    "basins = []\n",
    "basin_model_dict= {} \n",
    "pbar = os.listdir('../../data/processed/pickles/basins/')\n",
    "for i in os.listdir('../../data/processed/pickles/basins/'):\n",
    "    if i == '.DS_Store': \n",
    "        continue \n",
    "    basins.append(i)\n",
    "    #pbar.set_description(f'Testing Classifier for: {i.upper()}')\n",
    "    x_train = pickle.load(open(f'../../data/processed/pickles/basins/{i}/x_train.p', 'rb'))\n",
    "    x_test = pickle.load(open(f'../../data/processed/pickles/basins/{i}/x_test.p', 'rb'))\n",
    "    y_train = pickle.load(open(f'../../data/processed/pickles/basins/{i}/y_train.p', 'rb'))\n",
    "    y_test = pickle.load(open(f'../../data/processed/pickles/basins/{i}/y_test.p', 'rb'))\n",
    "    \n",
    "    x_train.drop('basin', axis =1, inplace = True)\n",
    "    x_test.drop('basin', axis =1, inplace = True)\n",
    "    y_train = y_train.values.ravel()\n",
    "    y_test = y_test.values.ravel()\n",
    "    \n",
    "    rf = RandomForestClassifier()\n",
    "   \n",
    "    \n",
    "#     plot_confusion_matrix(rf, x_test, y_test)\n",
    "    param_grid = {\n",
    "     'criterion': ['gini', 'entropy'],\n",
    "    'max_depth': [100, 250, 300, 350, 450],\n",
    "    'min_samples_split': [5, 8,10, 15],\n",
    "    'min_samples_leaf': [3, 5, 10, 15],\n",
    "    'max_features': ['sqrt', 'log2'],\n",
    "}\n",
    "    standard = StandardScaler()\n",
    "    x_train[['amount_tsh', 'gps_height', 'population', 'time_passed', 'longitude', 'latitude']] = standard.fit_transform(\n",
    "                                 x_train[['amount_tsh', 'gps_height', 'population', 'time_passed', 'longitude', 'latitude']]\n",
    "    )\n",
    "    x_test[['amount_tsh', 'gps_height', 'population', 'time_passed', 'longitude', 'latitude']] = standard.fit_transform(\n",
    "        x_test[['amount_tsh', 'gps_height', 'population', 'time_passed', 'longitude', 'latitude']]\n",
    "    )\n",
    "    cv = RepeatedStratifiedKFold(n_splits = 7, n_repeats = 5)\n",
    "    gs = RandomizedSearchCV(estimator = rf, param_distributions = param_grid, cv = cv, n_jobs = 13, verbose = 2, \n",
    "                            n_iter = 75)\n",
    "\n",
    "    gs.fit(x_train, y_train)\n",
    "    pickle.dump(gs, open(f'../../models/Basins/{i}_GridSearch.p', 'wb'))\n",
    "    basin_dict = dict(model = gs, x_train = x_train, y_train = y_train, x_test = x_test, y_test = y_test) \n",
    "    basin_model_dict[i] = basin_dict\n",
    "    \n",
    "\n",
    "pickle.dump(basin_model_dict, open(f'../../models/Basins/TunedModels.p', 'wb'))\n",
    "    "
   ]
  },
  {
   "cell_type": "code",
   "execution_count": 37,
   "metadata": {},
   "outputs": [
    {
     "name": "stdout",
     "output_type": "stream",
     "text": [
      "int\n",
      "RandomForestClassifier(criterion='entropy', max_depth=350, max_features='sqrt',\n",
      "                       min_samples_leaf=3, min_samples_split=8)\n",
      "nya\n",
      "RandomForestClassifier(max_depth=300, max_features='sqrt', min_samples_leaf=3,\n",
      "                       min_samples_split=5)\n",
      "pang\n",
      "RandomForestClassifier(criterion='entropy', max_depth=250, max_features='sqrt',\n",
      "                       min_samples_leaf=3, min_samples_split=8)\n",
      "ruf\n",
      "RandomForestClassifier(criterion='entropy', max_depth=350, max_features='sqrt',\n",
      "                       min_samples_leaf=3, min_samples_split=5)\n",
      "rukwa\n",
      "RandomForestClassifier(criterion='entropy', max_depth=250, max_features='log2',\n",
      "                       min_samples_leaf=3, min_samples_split=5)\n",
      "ruv\n",
      "RandomForestClassifier(criterion='entropy', max_depth=250, max_features='sqrt',\n",
      "                       min_samples_leaf=3, min_samples_split=8)\n",
      "tang\n",
      "RandomForestClassifier(criterion='entropy', max_depth=100, max_features='sqrt',\n",
      "                       min_samples_leaf=3, min_samples_split=5)\n",
      "vic\n",
      "RandomForestClassifier(criterion='entropy', max_depth=350, max_features='sqrt',\n",
      "                       min_samples_leaf=3, min_samples_split=5)\n",
      "wami\n",
      "RandomForestClassifier(criterion='entropy', max_depth=250, max_features='sqrt',\n",
      "                       min_samples_leaf=3, min_samples_split=5)\n"
     ]
    }
   ],
   "source": [
    "# fig, ax = plt.subplots(1, len(basin_model_dict.keys()))\n",
    "for idx, i in enumerate(basin_model_dict.keys()): \n",
    "    print(i)\n",
    "    basin_dict = basin_model_dict[i]\n",
    "    model = basin_dict['model']\n",
    "    print(model.best_estimator_)"
   ]
  },
  {
   "cell_type": "code",
   "execution_count": 51,
   "metadata": {},
   "outputs": [],
   "source": [
    "orig_dict = {'Lake Nyasa' : 'nya', 'Lake Victoria' : 'vic', 'Pangani' : 'pang', 'Ruvuma / Southern Coast' : 'ruv', \\\n",
    "                 'Internal' : 'int', 'Lake Tanganyika' : 'tang', 'Wami / Ruvu' : 'wami', 'Rufiji' : 'ruf',\n",
    "             'Lake Rukwa' : 'rukwa'}\n",
    "\n",
    "\n",
    "new_dict = {y:i for i,y in orig_dict.items()}\n",
    "# new_dict"
   ]
  },
  {
   "cell_type": "code",
   "execution_count": 52,
   "metadata": {},
   "outputs": [
    {
     "data": {
      "image/png": "[encoded data removed]",
      "text/plain": [
       "<Figure size 864x504 with 18 Axes>"
      ]
     },
     "metadata": {
      "needs_background": "light"
     },
     "output_type": "display_data"
    }
   ],
   "source": [
    "fig, ax = plt.subplots(3, 3, figsize = (12,7))\n",
    "cm_dict = {}\n",
    "for idx, i in enumerate(basin_model_dict.keys()): \n",
    "    basin_dict = basin_model_dict[i]\n",
    "    model =basin_dict['model'].best_estimator_\n",
    "    x_test = basin_dict['x_test']\n",
    "    y_test = basin_dict['y_test']\n",
    "    plot_confusion_matrix(model, x_test, y_test, \n",
    "                          display_labels = ['F', 'R'], ax = ax[idx//3, idx%3], normalize = 'true')\n",
    "    ax[idx//3, idx%3].set_title(f'{new_dict[i]}')\n",
    "    cm_dict[i] = confusion_matrix(y_test, model.predict(x_test))\n",
    "    \n",
    "plt.tight_layout()\n",
    "plt.savefig(f'figures/BASINS_confusion_matrix.png')"
   ]
  },
  {
   "cell_type": "code",
   "execution_count": 59,
   "metadata": {},
   "outputs": [],
   "source": [
    "pickle.dump(cm_dict, open(f'../../models/Basins/BasinCMDict.p', 'wb'))\n"
   ]
  },
  {
   "cell_type": "code",
   "execution_count": 40,
   "metadata": {},
   "outputs": [
    {
     "name": "stderr",
     "output_type": "stream",
     "text": [
      "KFold: wami: 100%|████████████████████████████████████████████████████████████████████████████████████████████████████████████████████████████████████████| 9/9 [01:20<00:00,  8.99s/it]\n"
     ]
    }
   ],
   "source": [
    "basin_model_dict = pickle.load(open(f'../../models/Basins/TunedModels.p', 'rb'))\n",
    "pbar = tqdm(basin_model_dict.keys())\n",
    "final_results = {} \n",
    "for bas in pbar: \n",
    "    pbar.set_description(f'KFold: {bas}')\n",
    "    model = basin_model_dict[bas]['model'].best_estimator_\n",
    "    x_train = basin_model_dict[bas]['x_train']\n",
    "    x_test = basin_model_dict[bas]['x_test']\n",
    "    X = x_train.append(x_test, ignore_index = True)\n",
    "    \n",
    "    y_train = pd.DataFrame(basin_model_dict[bas]['y_train'], columns = ['target'])\n",
    "    y_test = pd.DataFrame(basin_model_dict[bas]['y_test'], columns = ['target'])\n",
    "    y = y_train.append(y_test, ignore_index = True)\n",
    "    cv = RepeatedStratifiedKFold(n_splits = 10, n_repeats = 10)\n",
    "    scores = cross_val_score(model, X, y.target.values, scoring = 'accuracy', cv = cv, n_jobs = 12, \n",
    "                             error_score = 'raise')\n",
    "    final_results[bas]=  scores\n",
    "    \n"
   ]
  },
  {
   "cell_type": "code",
   "execution_count": 41,
   "metadata": {},
   "outputs": [
    {
     "data": {
      "text/plain": [
       "{'int': array([0.85900474, 0.8436019 , 0.85663507, 0.82819905, 0.8507109 ,\n",
       "        0.8471564 , 0.8542654 , 0.83886256, 0.85189573, 0.86018957,\n",
       "        0.84952607, 0.84834123, 0.84952607, 0.85900474, 0.83293839,\n",
       "        0.83530806, 0.8471564 , 0.85900474, 0.85545024, 0.84597156,\n",
       "        0.83886256, 0.86137441, 0.86374408, 0.85545024, 0.8542654 ,\n",
       "        0.84241706, 0.84834123, 0.84597156, 0.8436019 , 0.85663507,\n",
       "        0.86018957, 0.8542654 , 0.8507109 , 0.85308057, 0.86137441,\n",
       "        0.84241706, 0.8507109 , 0.84478673, 0.86018957, 0.82345972,\n",
       "        0.83412322, 0.85900474, 0.8507109 , 0.83767773, 0.86018957,\n",
       "        0.82109005, 0.86255924, 0.83886256, 0.85781991, 0.85781991,\n",
       "        0.85308057, 0.83530806, 0.85545024, 0.86729858, 0.85900474,\n",
       "        0.85308057, 0.8542654 , 0.84597156, 0.84834123, 0.84952607,\n",
       "        0.83767773, 0.84952607, 0.8436019 , 0.87322275, 0.8471564 ,\n",
       "        0.85189573, 0.85781991, 0.85545024, 0.85308057, 0.86374408,\n",
       "        0.85189573, 0.83886256, 0.84478673, 0.84597156, 0.8471564 ,\n",
       "        0.8471564 , 0.85308057, 0.85781991, 0.85308057, 0.85900474,\n",
       "        0.82345972, 0.86255924, 0.84478673, 0.85189573, 0.84597156,\n",
       "        0.84004739, 0.85308057, 0.84834123, 0.8436019 , 0.86492891,\n",
       "        0.83412322, 0.8471564 , 0.86611374, 0.86492891, 0.85663507,\n",
       "        0.8471564 , 0.83886256, 0.84004739, 0.84478673, 0.86611374]),\n",
       " 'nya': array([0.90177134, 0.90338164, 0.9178744 , 0.91626409, 0.90660225,\n",
       "        0.90338164, 0.89193548, 0.90483871, 0.8983871 , 0.88870968,\n",
       "        0.90660225, 0.88727858, 0.88727858, 0.89371981, 0.90338164,\n",
       "        0.91626409, 0.91290323, 0.90967742, 0.92096774, 0.88709677,\n",
       "        0.89855072, 0.89533011, 0.8921095 , 0.91304348, 0.92431562,\n",
       "        0.88727858, 0.90806452, 0.9       , 0.91612903, 0.88870968,\n",
       "        0.88083736, 0.9178744 , 0.87761675, 0.89533011, 0.89694042,\n",
       "        0.92592593, 0.90483871, 0.92096774, 0.92419355, 0.91774194,\n",
       "        0.92592593, 0.92109501, 0.88244767, 0.89371981, 0.9178744 ,\n",
       "        0.88727858, 0.89677419, 0.90645161, 0.91129032, 0.91451613,\n",
       "        0.91465378, 0.91143317, 0.90338164, 0.89694042, 0.9178744 ,\n",
       "        0.90016103, 0.86935484, 0.91129032, 0.9       , 0.91451613,\n",
       "        0.88727858, 0.89855072, 0.93075684, 0.88405797, 0.92592593,\n",
       "        0.89533011, 0.89677419, 0.90483871, 0.90483871, 0.90322581,\n",
       "        0.91626409, 0.91304348, 0.90660225, 0.88888889, 0.87761675,\n",
       "        0.91465378, 0.8983871 , 0.91129032, 0.91290323, 0.91612903,\n",
       "        0.9178744 , 0.9194847 , 0.88727858, 0.88566828, 0.89533011,\n",
       "        0.90660225, 0.92258065, 0.90322581, 0.90967742, 0.89677419,\n",
       "        0.90660225, 0.90499195, 0.89371981, 0.90982287, 0.91304348,\n",
       "        0.89371981, 0.92258065, 0.90322581, 0.90483871, 0.89516129]),\n",
       " 'pang': array([0.82121807, 0.85559921, 0.84070796, 0.80334317, 0.8446411 ,\n",
       "        0.82497542, 0.82202557, 0.83382498, 0.82399213, 0.81219272,\n",
       "        0.82318271, 0.82416503, 0.82399213, 0.84660767, 0.82300885,\n",
       "        0.80334317, 0.81907571, 0.84365782, 0.82300885, 0.82989184,\n",
       "        0.81335953, 0.82416503, 0.8387414 , 0.85054081, 0.84169125,\n",
       "        0.81809243, 0.82890855, 0.83284169, 0.82202557, 0.84070796,\n",
       "        0.82121807, 0.83988212, 0.82792527, 0.82694199, 0.82890855,\n",
       "        0.83382498, 0.81415929, 0.83775811, 0.83579154, 0.81514258,\n",
       "        0.82711198, 0.82023576, 0.81612586, 0.84660767, 0.83972468,\n",
       "        0.820059  , 0.82890855, 0.8072763 , 0.83480826, 0.83382498,\n",
       "        0.83202358, 0.83791749, 0.81120944, 0.83579154, 0.82399213,\n",
       "        0.80530973, 0.80924287, 0.83972468, 0.84857424, 0.8387414 ,\n",
       "        0.84577603, 0.82416503, 0.81710914, 0.8446411 , 0.80924287,\n",
       "        0.8259587 , 0.83579154, 0.82989184, 0.82497542, 0.83775811,\n",
       "        0.82416503, 0.82220039, 0.83382498, 0.8072763 , 0.83382498,\n",
       "        0.85349066, 0.83382498, 0.83480826, 0.84365782, 0.84070796,\n",
       "        0.83791749, 0.82612967, 0.84857424, 0.83087512, 0.82989184,\n",
       "        0.82792527, 0.80924287, 0.83284169, 0.83677483, 0.82300885,\n",
       "        0.83693517, 0.83202358, 0.81219272, 0.84857424, 0.81612586,\n",
       "        0.82399213, 0.84267453, 0.84365782, 0.81514258, 0.84070796]),\n",
       " 'ruf': array([0.85235602, 0.86806283, 0.85445026, 0.84816754, 0.85863874,\n",
       "        0.86477987, 0.85953878, 0.86897275, 0.86268344, 0.85010482,\n",
       "        0.84188482, 0.86073298, 0.8408377 , 0.8513089 , 0.86282723,\n",
       "        0.86477987, 0.85429769, 0.85429769, 0.87840671, 0.85010482,\n",
       "        0.84293194, 0.85235602, 0.85968586, 0.86492147, 0.86282723,\n",
       "        0.84800839, 0.84800839, 0.85639413, 0.85953878, 0.86897275,\n",
       "        0.84921466, 0.85340314, 0.87853403, 0.84502618, 0.84397906,\n",
       "        0.85010482, 0.85220126, 0.84591195, 0.87316562, 0.85849057,\n",
       "        0.86492147, 0.85026178, 0.87853403, 0.87853403, 0.87853403,\n",
       "        0.8490566 , 0.86897275, 0.84067086, 0.84067086, 0.83228512,\n",
       "        0.85235602, 0.8460733 , 0.84293194, 0.87225131, 0.86492147,\n",
       "        0.85744235, 0.84800839, 0.88469602, 0.84800839, 0.85639413,\n",
       "        0.86073298, 0.86282723, 0.86282723, 0.87225131, 0.84502618,\n",
       "        0.84171908, 0.85639413, 0.85115304, 0.86792453, 0.86268344,\n",
       "        0.8460733 , 0.85968586, 0.85968586, 0.87015707, 0.85863874,\n",
       "        0.86792453, 0.85849057, 0.86268344, 0.86268344, 0.84696017,\n",
       "        0.84816754, 0.84712042, 0.85445026, 0.85235602, 0.85549738,\n",
       "        0.85744235, 0.84591195, 0.860587  , 0.86477987, 0.86373166,\n",
       "        0.84921466, 0.85863874, 0.85026178, 0.86282723, 0.85340314,\n",
       "        0.84486373, 0.87735849, 0.8490566 , 0.86163522, 0.8427673 ]),\n",
       " 'rukwa': array([0.73308271, 0.79323308, 0.80754717, 0.81886792, 0.77358491,\n",
       "        0.79622642, 0.79622642, 0.81886792, 0.8       , 0.80377358,\n",
       "        0.80827068, 0.7443609 , 0.81132075, 0.76603774, 0.81509434,\n",
       "        0.76981132, 0.79245283, 0.8       , 0.83396226, 0.8       ,\n",
       "        0.77819549, 0.7556391 , 0.76226415, 0.79622642, 0.79245283,\n",
       "        0.78490566, 0.78113208, 0.81132075, 0.79245283, 0.81509434,\n",
       "        0.77443609, 0.77067669, 0.82641509, 0.81886792, 0.75471698,\n",
       "        0.76603774, 0.80754717, 0.7509434 , 0.78867925, 0.83773585,\n",
       "        0.79699248, 0.79323308, 0.78867925, 0.82264151, 0.76981132,\n",
       "        0.76981132, 0.78113208, 0.78490566, 0.78490566, 0.7245283 ,\n",
       "        0.77819549, 0.78571429, 0.79622642, 0.80754717, 0.77358491,\n",
       "        0.77735849, 0.81509434, 0.78490566, 0.78867925, 0.76603774,\n",
       "        0.78195489, 0.80827068, 0.77735849, 0.72830189, 0.80377358,\n",
       "        0.79622642, 0.79622642, 0.78867925, 0.76603774, 0.81509434,\n",
       "        0.80451128, 0.78195489, 0.78490566, 0.77358491, 0.80754717,\n",
       "        0.76981132, 0.7509434 , 0.78113208, 0.82264151, 0.80377358,\n",
       "        0.77819549, 0.79323308, 0.78490566, 0.76981132, 0.77735849,\n",
       "        0.78113208, 0.82264151, 0.77358491, 0.81509434, 0.80754717,\n",
       "        0.7443609 , 0.7443609 , 0.75471698, 0.79245283, 0.84528302,\n",
       "        0.80754717, 0.80754717, 0.75849057, 0.78113208, 0.82264151]),\n",
       " 'ruv': array([0.86519115, 0.87927565, 0.83266129, 0.87903226, 0.87298387,\n",
       "        0.87298387, 0.85080645, 0.88508065, 0.88306452, 0.87701613,\n",
       "        0.861167  , 0.86317907, 0.88306452, 0.875     , 0.85080645,\n",
       "        0.85685484, 0.86290323, 0.85887097, 0.88306452, 0.89516129,\n",
       "        0.86317907, 0.87525151, 0.89717742, 0.84072581, 0.86895161,\n",
       "        0.89717742, 0.8608871 , 0.88104839, 0.86693548, 0.85483871,\n",
       "        0.87323944, 0.86921529, 0.85685484, 0.89112903, 0.84879032,\n",
       "        0.85080645, 0.89112903, 0.85685484, 0.86895161, 0.87096774,\n",
       "        0.87927565, 0.86519115, 0.88104839, 0.8608871 , 0.87298387,\n",
       "        0.86491935, 0.8608871 , 0.89516129, 0.87096774, 0.86895161,\n",
       "        0.86519115, 0.87726358, 0.88709677, 0.89314516, 0.84274194,\n",
       "        0.86491935, 0.83870968, 0.87903226, 0.8608871 , 0.85685484,\n",
       "        0.87525151, 0.87525151, 0.85483871, 0.89314516, 0.89112903,\n",
       "        0.85685484, 0.88709677, 0.87298387, 0.84879032, 0.84677419,\n",
       "        0.9054326 , 0.84708249, 0.88306452, 0.84274194, 0.90725806,\n",
       "        0.83870968, 0.90322581, 0.86491935, 0.83266129, 0.87298387,\n",
       "        0.861167  , 0.85110664, 0.89314516, 0.85887097, 0.86290323,\n",
       "        0.89717742, 0.87903226, 0.87903226, 0.86290323, 0.89314516,\n",
       "        0.85915493, 0.86720322, 0.88104839, 0.875     , 0.85483871,\n",
       "        0.85483871, 0.84879032, 0.88306452, 0.875     , 0.85282258]),\n",
       " 'tang': array([0.81574803, 0.81732283, 0.78110236, 0.77952756, 0.79527559,\n",
       "        0.80472441, 0.81417323, 0.79527559, 0.81417323, 0.79179811,\n",
       "        0.80314961, 0.83779528, 0.8015748 , 0.8015748 , 0.79055118,\n",
       "        0.85354331, 0.77165354, 0.8       , 0.8       , 0.79968454,\n",
       "        0.79527559, 0.7984252 , 0.83937008, 0.81259843, 0.78110236,\n",
       "        0.82047244, 0.80944882, 0.78267717, 0.78425197, 0.8044164 ,\n",
       "        0.80944882, 0.82519685, 0.8       , 0.79212598, 0.80629921,\n",
       "        0.79370079, 0.81732283, 0.77480315, 0.78897638, 0.81861199,\n",
       "        0.78267717, 0.80787402, 0.81732283, 0.8       , 0.83937008,\n",
       "        0.83149606, 0.78267717, 0.82834646, 0.78425197, 0.79337539,\n",
       "        0.79527559, 0.80944882, 0.79212598, 0.79685039, 0.81102362,\n",
       "        0.8015748 , 0.80629921, 0.80472441, 0.80314961, 0.80283912,\n",
       "        0.82992126, 0.78897638, 0.80472441, 0.77795276, 0.80944882,\n",
       "        0.79212598, 0.7984252 , 0.79527559, 0.82519685, 0.79337539,\n",
       "        0.79212598, 0.79370079, 0.78897638, 0.8       , 0.81259843,\n",
       "        0.81889764, 0.81417323, 0.82834646, 0.80787402, 0.79652997,\n",
       "        0.77795276, 0.79527559, 0.79685039, 0.7984252 , 0.80314961,\n",
       "        0.81889764, 0.82204724, 0.81732283, 0.82047244, 0.80126183,\n",
       "        0.81259843, 0.7984252 , 0.80314961, 0.82362205, 0.79527559,\n",
       "        0.77795276, 0.78425197, 0.81102362, 0.82362205, 0.81545741]),\n",
       " 'vic': array([0.78851964, 0.80362538, 0.81470292, 0.78046324, 0.77945619,\n",
       "        0.81873112, 0.78147029, 0.82275932, 0.79053374, 0.79456193,\n",
       "        0.79355488, 0.79556898, 0.79053374, 0.80866062, 0.80261833,\n",
       "        0.80563948, 0.78952669, 0.79254783, 0.81973817, 0.79154079,\n",
       "        0.82477341, 0.79355488, 0.80060423, 0.77945619, 0.78751259,\n",
       "        0.77744209, 0.80362538, 0.78952669, 0.81671702, 0.80261833,\n",
       "        0.80664653, 0.81268882, 0.82578046, 0.80563948, 0.7633434 ,\n",
       "        0.81168177, 0.79859013, 0.79254783, 0.77643505, 0.77945619,\n",
       "        0.79556898, 0.79456193, 0.80161128, 0.79859013, 0.75931521,\n",
       "        0.78851964, 0.80362538, 0.81369587, 0.80563948, 0.80463243,\n",
       "        0.80161128, 0.82074522, 0.78751259, 0.81268882, 0.775428  ,\n",
       "        0.79859013, 0.77744209, 0.80866062, 0.79355488, 0.78549849,\n",
       "        0.79154079, 0.78851964, 0.78751259, 0.78247734, 0.80664653,\n",
       "        0.79456193, 0.79859013, 0.79556898, 0.80966767, 0.81268882,\n",
       "        0.82578046, 0.79959718, 0.80161128, 0.79859013, 0.78348439,\n",
       "        0.7734139 , 0.80261833, 0.82175227, 0.77240685, 0.79154079,\n",
       "        0.78449144, 0.79556898, 0.81772407, 0.81973817, 0.80765358,\n",
       "        0.79758308, 0.78952669, 0.80463243, 0.80664653, 0.7734139 ,\n",
       "        0.78751259, 0.78348439, 0.7734139 , 0.77945619, 0.82980866,\n",
       "        0.79859013, 0.78348439, 0.80765358, 0.80362538, 0.79859013]),\n",
       " 'wami': array([0.88071895, 0.84150327, 0.85294118, 0.85620915, 0.84803922,\n",
       "        0.86764706, 0.85597381, 0.84615385, 0.87070376, 0.85761047,\n",
       "        0.85130719, 0.87418301, 0.84477124, 0.85457516, 0.84477124,\n",
       "        0.86111111, 0.85270049, 0.84779051, 0.85106383, 0.88870704,\n",
       "        0.86437908, 0.85294118, 0.87418301, 0.86111111, 0.82843137,\n",
       "        0.83660131, 0.85924714, 0.85106383, 0.85433715, 0.87888707,\n",
       "        0.85294118, 0.83333333, 0.84477124, 0.8627451 , 0.85784314,\n",
       "        0.8496732 , 0.88216039, 0.85597381, 0.87070376, 0.84615385,\n",
       "        0.85784314, 0.86928105, 0.84640523, 0.86437908, 0.86764706,\n",
       "        0.85457516, 0.84615385, 0.8314239 , 0.82815057, 0.88216039,\n",
       "        0.82026144, 0.87581699, 0.83496732, 0.86601307, 0.87091503,\n",
       "        0.86928105, 0.85924714, 0.87888707, 0.86743044, 0.84615385,\n",
       "        0.85294118, 0.84313725, 0.85130719, 0.85620915, 0.84640523,\n",
       "        0.87418301, 0.88707038, 0.8396072 , 0.88052373, 0.84615385,\n",
       "        0.86437908, 0.85294118, 0.81862745, 0.86437908, 0.8496732 ,\n",
       "        0.86437908, 0.85924714, 0.87397709, 0.84942717, 0.84942717,\n",
       "        0.87418301, 0.87254902, 0.85947712, 0.85784314, 0.82679739,\n",
       "        0.85130719, 0.85270049, 0.85433715, 0.86743044, 0.8396072 ,\n",
       "        0.85784314, 0.8627451 , 0.84313725, 0.83986928, 0.84640523,\n",
       "        0.85130719, 0.8690671 , 0.86579378, 0.87070376, 0.85924714])}"
      ]
     },
     "execution_count": 41,
     "metadata": {},
     "output_type": "execute_result"
    }
   ],
   "source": [
    "final_results"
   ]
  },
  {
   "cell_type": "code",
   "execution_count": 57,
   "metadata": {},
   "outputs": [
    {
     "data": {
      "image/png": "[encoded data removed]",
      "text/plain": [
       "<Figure size 1080x360 with 1 Axes>"
      ]
     },
     "metadata": {
      "needs_background": "light"
     },
     "output_type": "display_data"
    }
   ],
   "source": [
    "plt.figure(figsize = (15,5))\n",
    "names = [new_dict[i] for i in final_results.keys()]\n",
    "results = [i[1] for i in final_results.items()]\n",
    "plt.boxplot(results, labels = names)\n",
    "plt.title('Accuracy By Region')\n",
    "plt.xlabel('Region')\n",
    "plt.ylabel('Accuracy')\n",
    "plt.xticks(rotation = 45)\n",
    "plt.tight_layout()\n",
    "plt.savefig('figures/ByRegionKFold.png')\n",
    "plt.show()"
   ]
  },
  {
   "cell_type": "code",
   "execution_count": null,
   "metadata": {},
   "outputs": [],
   "source": []
  },
  {
   "cell_type": "code",
   "execution_count": null,
   "metadata": {},
   "outputs": [],
   "source": []
  },
  {
   "cell_type": "code",
   "execution_count": null,
   "metadata": {},
   "outputs": [],
   "source": []
  }
 ],
 "metadata": {
  "kernelspec": {
   "display_name": "Python 3",
   "language": "python",
   "name": "python3"
  },
  "language_info": {
   "codemirror_mode": {
    "name": "ipython",
    "version": 3
   },
   "file_extension": ".py",
   "mimetype": "text/x-python",
   "name": "python",
   "nbconvert_exporter": "python",
   "pygments_lexer": "ipython3",
   "version": "3.7.6"
  }
 },
 "nbformat": 4,
 "nbformat_minor": 4
}
