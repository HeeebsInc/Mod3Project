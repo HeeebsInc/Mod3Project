{
 "cells": [
  {
   "cell_type": "code",
   "execution_count": 2,
   "metadata": {},
   "outputs": [],
   "source": [
    "import pandas as pd\n",
    "import numpy as np\n",
    "import pickle\n",
    "from sklearn.model_selection import train_test_split\n",
    "from sklearn.utils import resample\n",
    "from sklearn.preprocessing import StandardScaler, MinMaxScaler\n",
    "from sklearn.cluster import KMeans\n",
    "from sklearn.preprocessing import StandardScaler\n",
    "import matplotlib.pyplot as plt\n",
    "from tqdm import tqdm\n",
    "\n",
    "pd.options.display.max_rows = 35 \n",
    "pd.options.display.max_columns = None"
   ]
  },
  {
   "cell_type": "code",
   "execution_count": null,
   "metadata": {},
   "outputs": [],
   "source": []
  },
  {
   "cell_type": "markdown",
   "metadata": {},
   "source": [
    "## Train Test 1: Cluster"
   ]
  },
  {
   "cell_type": "code",
   "execution_count": 3,
   "metadata": {},
   "outputs": [
    {
     "name": "stdout",
     "output_type": "stream",
     "text": [
      "(57247, 21)\n",
      "25348\n",
      "25348\n",
      "57247 57247\n",
      "0    24015\n",
      "1    18920\n",
      "Name: target, dtype: int64 0    7884\n",
      "1    6428\n",
      "Name: target, dtype: int64\n"
     ]
    },
    {
     "ename": "NameError",
     "evalue": "name 'x_test_longlat' is not defined",
     "output_type": "error",
     "traceback": [
      "\u001b[1;31m---------------------------------------------------------------------------\u001b[0m",
      "\u001b[1;31mNameError\u001b[0m                                 Traceback (most recent call last)",
      "\u001b[1;32m<ipython-input-3-09f115e85090>\u001b[0m in \u001b[0;36m<module>\u001b[1;34m\u001b[0m\n\u001b[0;32m     42\u001b[0m \u001b[0mx_train_longlat\u001b[0m \u001b[1;33m=\u001b[0m \u001b[0mx_train\u001b[0m\u001b[1;33m[\u001b[0m\u001b[1;33m[\u001b[0m\u001b[1;34m'longitude'\u001b[0m\u001b[1;33m,\u001b[0m \u001b[1;34m'latitude'\u001b[0m\u001b[1;33m]\u001b[0m\u001b[1;33m]\u001b[0m\u001b[1;33m.\u001b[0m\u001b[0mvalues\u001b[0m\u001b[1;33m\u001b[0m\u001b[1;33m\u001b[0m\u001b[0m\n\u001b[0;32m     43\u001b[0m \u001b[0mx_train_longlat_scaled\u001b[0m \u001b[1;33m=\u001b[0m \u001b[0mmin_max\u001b[0m\u001b[1;33m.\u001b[0m\u001b[0mfit_transform\u001b[0m\u001b[1;33m(\u001b[0m\u001b[0mx_train_longlat\u001b[0m\u001b[1;33m)\u001b[0m\u001b[1;33m\u001b[0m\u001b[1;33m\u001b[0m\u001b[0m\n\u001b[1;32m---> 44\u001b[1;33m \u001b[0mx_test_longlat_scaled\u001b[0m \u001b[1;33m=\u001b[0m \u001b[0mmin_max\u001b[0m\u001b[1;33m.\u001b[0m\u001b[0mfit_transform\u001b[0m\u001b[1;33m(\u001b[0m\u001b[0mx_test_longlat\u001b[0m\u001b[1;33m)\u001b[0m\u001b[1;33m\u001b[0m\u001b[1;33m\u001b[0m\u001b[0m\n\u001b[0m\u001b[0;32m     45\u001b[0m \u001b[1;33m\u001b[0m\u001b[0m\n\u001b[0;32m     46\u001b[0m \u001b[0mx_test_longlat\u001b[0m \u001b[1;33m=\u001b[0m \u001b[0mx_test\u001b[0m\u001b[1;33m[\u001b[0m\u001b[1;33m[\u001b[0m\u001b[1;34m'longitude'\u001b[0m\u001b[1;33m,\u001b[0m \u001b[1;34m'latitude'\u001b[0m\u001b[1;33m]\u001b[0m\u001b[1;33m]\u001b[0m\u001b[1;33m.\u001b[0m\u001b[0mvalues\u001b[0m\u001b[1;33m\u001b[0m\u001b[1;33m\u001b[0m\u001b[0m\n",
      "\u001b[1;31mNameError\u001b[0m: name 'x_test_longlat' is not defined"
     ]
    }
   ],
   "source": [
    "df = pd.read_csv('../../data/processed/WaterUpdated.csv').drop('id', axis = 1)\n",
    "df.target.replace({'functional': 0, 'non functional': 1, 'functional needs repair': 1}, inplace = True)\n",
    "print(df.shape)\n",
    "new_df = df\n",
    "new_df = new_df.join(pd.get_dummies(df.basin, prefix = 'basin'))\n",
    "new_df = new_df.join(pd.get_dummies(df.extraction_type, prefix = 'extract'))\n",
    "new_df = new_df.join(pd.get_dummies(df.quantity, prefix = 'quantity'))\n",
    "new_df = new_df.join(pd.get_dummies(df.water_quality, prefix = 'quality'))\n",
    "new_df = new_df.join(pd.get_dummies(df.source, prefix = 'source'))\n",
    "new_df = new_df.join(pd.get_dummies(df.waterpoint_type, prefix = 'waterpoint'))\n",
    "\n",
    "\n",
    "unique_basin = [f'basin_{i}' for i in df.basin.unique()]\n",
    "unique_extract = [f'extract_{i}' for i in df.extraction_type.unique()]\n",
    "unique_waterpoint = [f'waterpoint_{i}' for i in df.waterpoint_type.unique()]\n",
    "unique_source = [f'source_{i}' for i in df.source.unique() if i != 'unknown']\n",
    "unique_quality = [f'quality_{i}' for i in df.water_quality.unique() if i != 'unknown']\n",
    "unique_quantity = [f'quantity_{i}' for i in df.quantity.unique() if i != 'unknown']\n",
    "\n",
    "col = ['amount_tsh', 'gps_height', 'population', 'permit', 'time_passed', 'target', 'region', 'longitude', 'latitude']\n",
    "col = col + unique_basin + unique_extract + unique_waterpoint + unique_source + unique_quality + unique_quantity \n",
    "new_df = new_df[col]\n",
    "func_df = new_df[new_df.target == 0]\n",
    "repair_df = new_df[new_df.target ==1]\n",
    "print(len(repair_df))\n",
    "resamp_repair = resample(repair_df, n_samples = len(repair_df), random_state = 10)\n",
    "print(len(repair_df))\n",
    "\n",
    "resampled_concat = pd.concat([func_df, resamp_repair])\n",
    "X = resampled_concat\n",
    "y = resampled_concat[['target']]\n",
    "\n",
    "print(len(X), len(new_df))\n",
    "\n",
    "standard = StandardScaler()\n",
    "min_max  = MinMaxScaler()\n",
    "pickle.dump(X.drop(['region', 'target'], axis = 1), open('../../data/processed/pickles/cluster_X.p', 'wb'))\n",
    "pickle.dump(y, open('../../data/processed/pickles/cluster_y.p', 'wb'))\n",
    "\n",
    "x_train, x_test, y_train, y_test = train_test_split(X,y, stratify = X.region.values, random_state = 10, train_size = .75)\n",
    "print(y_train.target.value_counts(), y_test.target.value_counts())\n",
    "x_train_longlat = x_train[['longitude', 'latitude']].values\n",
    "x_train_longlat_scaled = min_max.fit_transform(x_train_longlat)\n",
    "x_test_longlat_scaled = min_max.fit_transform(x_test_longlat)\n",
    "\n",
    "x_test_longlat = x_test[['longitude', 'latitude']].values\n",
    "\n",
    "x_train = x_train.drop(['longitude', 'latitude', 'region', 'target'], axis =1)\n",
    "x_test = x_test.drop(['longitude', 'latitude', 'region', 'target'], axis =1)\n",
    "\n",
    "# for i in range(1,21): \n",
    "#     kmeans = KMeans(n_jobs = -1, n_clusters= i, init = 'k-means++').inertia_ \n",
    "\n",
    "n_cluster = 10\n",
    "\n",
    "    \n",
    "    \n",
    "df = pd.DataFrame()\n",
    "df['cluster'] = kmeans_all\n",
    "df['long'] = [i[0] for i in X[['longitude', 'latitude']].values]\n",
    "df['lat'] = [i[1] for i in X[['longitude', 'latitude']].values]\n",
    "\n",
    "\n",
    "x_train['cluster'] =KMeans(n_clusters = n_cluster, random_state = 0).fit_predict(x_train_longlat_scaled)\n",
    "x_test['cluster'] = KMeans(n_clusters = n_cluster, random_state = 0).fit_predict(x_test_longlat_scaled)\n",
    "for clus in df.cluster.unique(): \n",
    "    clust_df = df[df.cluster == clus]\n",
    "    plt.scatter(clust_df.long, clust_df.lat, label = f'{clus}')\n",
    "    plt.xlabel('Long'); plt.ylabel('lat')\n",
    "    plt.savefig('figures/Cluster.png')\n",
    "\n",
    "plt.legend()\n",
    "\n",
    "pickle.dump(y_test, open('../../data/processed/pickles/cluster_y_test.p', 'wb'))\n",
    "pickle.dump(y_train, open('../../data/processed/pickles/cluster_y_train.p', 'wb'))\n",
    "pickle.dump(x_train, open('../../data/processed/pickles/cluster_x_train.p', 'wb'))\n",
    "pickle.dump(x_test, open('../../data/processed/pickles/cluster_x_test.p', 'wb'))"
   ]
  },
  {
   "cell_type": "code",
   "execution_count": 59,
   "metadata": {},
   "outputs": [
    {
     "name": "stderr",
     "output_type": "stream",
     "text": [
      "Analyzing Intertia for a cluster of 19: 100%|█████████████████████████████████████████████████████████████████████████████████████████████████████████████| 19/19 [00:23<00:00,  1.22s/it]\n"
     ]
    },
    {
     "data": {
      "image/png": "[encoded data removed]",
      "text/plain": [
       "<Figure size 432x288 with 1 Axes>"
      ]
     },
     "metadata": {
      "needs_background": "light"
     },
     "output_type": "display_data"
    }
   ],
   "source": [
    "sse= []\n",
    "pbar = tqdm(range(1,20))\n",
    "for clus in pbar: \n",
    "    pbar.set_description(f'Analyzing Intertia for a cluster of {clus}')\n",
    "    kmeans = KMeans(n_jobs = -1, n_clusters = clus, init = 'k-means++')\n",
    "    kmeans.fit(standard.fit_transform(X[['longitude', 'latitude']]))\n",
    "    sse.append(kmeans.inertia_)\n",
    "plt.plot([i for i in range(1, len(sse)+1)], sse)\n",
    "plt.scatter([i for i in range(1, len(sse)+1)], sse)\n",
    "plt.xlabel('Clusters')\n",
    "plt.ylabel('Intertia')\n",
    "plt.title('Cluster vs. Intertia Convergence')\n",
    "plt.savefig('figures/ConvergenceCluster.png')"
   ]
  },
  {
   "cell_type": "markdown",
   "metadata": {},
   "source": [
    "# Train Test 2: Basin"
   ]
  },
  {
   "cell_type": "code",
   "execution_count": 5,
   "metadata": {},
   "outputs": [
    {
     "name": "stdout",
     "output_type": "stream",
     "text": [
      "(57247, 21)\n",
      "57247 57247\n",
      "0    23923\n",
      "1    19012\n",
      "Name: target, dtype: int64 0    7976\n",
      "1    6336\n",
      "Name: target, dtype: int64\n"
     ]
    }
   ],
   "source": [
    "df = pd.read_csv('../../data/processed/WaterUpdated.csv').drop('id', axis = 1)\n",
    "df.target.replace({'functional': 0, 'non functional': 1, 'functional needs repair': 1}, inplace = True)\n",
    "print(df.shape)\n",
    "new_df = df\n",
    "new_df = df.join(pd.get_dummies(df.basin, prefix = 'basin'))\n",
    "new_df = new_df.join(pd.get_dummies(df.extraction_type, prefix = 'extract'))\n",
    "new_df = new_df.join(pd.get_dummies(df.quantity, prefix = 'quantity'))\n",
    "new_df = new_df.join(pd.get_dummies(df.water_quality, prefix = 'quality'))\n",
    "new_df = new_df.join(pd.get_dummies(df.source, prefix = 'source'))\n",
    "new_df = new_df.join(pd.get_dummies(df.waterpoint_type, prefix = 'waterpoint'))\n",
    "\n",
    "\n",
    "unique_extract = [f'extract_{i}' for i in df.extraction_type.unique()]\n",
    "unique_waterpoint = [f'waterpoint_{i}' for i in df.waterpoint_type.unique()]\n",
    "unique_source = [f'source_{i}' for i in df.source.unique() if i != 'unknown']\n",
    "unique_quality = [f'quality_{i}' for i in df.water_quality.unique() if i != 'unknown']\n",
    "unique_quantity = [f'quantity_{i}' for i in df.quantity.unique() if i != 'unknown']\n",
    "\n",
    "col = ['amount_tsh', 'gps_height', 'population', 'permit', 'time_passed', 'target', 'basin']\n",
    "col = col + unique_extract + unique_waterpoint + unique_source + unique_quality + unique_quantity \n",
    "new_df = new_df[col]\n",
    "func_df = new_df[new_df.target == 0]\n",
    "repair_df = new_df[new_df.target ==1]\n",
    "\n",
    "resamp_repair = resample(repair_df, n_samples = len(repair_df), random_state = 10)\n",
    "\n",
    "resampled_concat = pd.concat([func_df, resamp_repair])\n",
    "X = resampled_concat\n",
    "y = resampled_concat[['target']]\n",
    "\n",
    "print(len(X), len(new_df))\n",
    "\n",
    "pickle.dump(X.drop('target', axis = 1), open('../../data/processed/pickles/basin_X.p', 'wb'))\n",
    "pickle.dump(y, open('../../data/processed/pickles/basin_y.p', 'wb'))\n",
    "\n",
    "x_train, x_test, y_train, y_test = train_test_split(X,y, stratify = X.basin.values, random_state = 10, train_size = .75)\n",
    "print(y_train.target.value_counts(), y_test.target.value_counts())\n",
    "x_train = x_train.drop(['target'], axis =1)\n",
    "x_test = x_test.drop(['target'], axis =1)\n",
    "\n",
    "pickle.dump(y_test, open('../../data/processed/pickles/basin_y_test.p', 'wb'))\n",
    "pickle.dump(y_train, open('../../data/processed/pickles/basin_y_train.p', 'wb'))\n",
    "pickle.dump(x_train, open('../../data/processed/pickles/basin_x_train.p', 'wb'))\n",
    "pickle.dump(x_test, open('../../data/processed/pickles/basin_x_test.p', 'wb'))"
   ]
  },
  {
   "cell_type": "markdown",
   "metadata": {},
   "source": [
    "## Train Test 1- All"
   ]
  },
  {
   "cell_type": "code",
   "execution_count": null,
   "metadata": {},
   "outputs": [],
   "source": [
    "df = pd.read_csv('../../data/processed/WaterUpdated.csv').drop('id', axis = 1)\n",
    "df.target.replace({'functional': 0, 'non functional': 1, 'functional needs repair': 1}, inplace = True)\n",
    "print(df.shape)\n",
    "new_df = df\n",
    "new_df = df.join(pd.get_dummies(df.basin, prefix = 'basin'))\n",
    "new_df = new_df.join(pd.get_dummies(df.extraction_type, prefix = 'extract'))\n",
    "new_df = new_df.join(pd.get_dummies(df.quantity, prefix = 'quantity'))\n",
    "new_df = new_df.join(pd.get_dummies(df.water_quality, prefix = 'quality'))\n",
    "new_df = new_df.join(pd.get_dummies(df.source, prefix = 'source'))\n",
    "new_df = new_df.join(pd.get_dummies(df.waterpoint_type, prefix = 'waterpoint'))\n",
    "\n",
    "\n",
    "unique_basin = [f'basin_{i}' for i in df.basin.unique()]\n",
    "unique_extract = [f'extract_{i}' for i in df.extraction_type.unique()]\n",
    "unique_waterpoint = [f'waterpoint_{i}' for i in df.waterpoint_type.unique()]\n",
    "unique_source = [f'source_{i}' for i in df.source.unique() if i != 'unknown']\n",
    "unique_quality = [f'quality_{i}' for i in df.water_quality.unique() if i != 'unknown']\n",
    "unique_quantity = [f'quantity_{i}' for i in df.quantity.unique() if i != 'unknown']\n",
    "\n",
    "col = ['amount_tsh', 'gps_height', 'population', 'permit', 'time_passed', 'target']\n",
    "col = col + unique_basin + unique_extract + unique_waterpoint + unique_source + unique_quality + unique_quantity \n",
    "new_df = new_df[col]\n",
    "func_df = new_df[new_df.target == 0]\n",
    "repair_df = new_df[new_df.target ==1]\n",
    "\n",
    "resamp_repair = resample(repair_df, n_samples = len(repair_df), random_state = 10)\n",
    "\n",
    "resampled_concat = pd.concat([func_df, resamp_repair])\n",
    "X = resampled_concat\n",
    "y = resampled_concat[['target']]\n",
    "\n",
    "print(len(X), len(new_df))\n",
    "\n",
    "pickle.dump(X.drop('target', axis = 1), open('../../data/processed/pickles/X.p', 'wb'))\n",
    "pickle.dump(y, open('../../data/processed/pickles/y.p', 'wb'))\n",
    "\n",
    "x_train, x_test, y_train, y_test = train_test_split(X,y, stratify = X.target, random_state = 10, train_size = .85)\n",
    "print(y_train.target.value_counts(), y_test.target.value_counts())\n",
    "x_train = x_train.drop('target', axis =1)\n",
    "x_test = x_test.drop('target', axis =1)\n",
    "\n",
    "pickle.dump(y_test, open('../../data/processed/pickles/y_test.p', 'wb'))\n",
    "pickle.dump(y_train, open('../../data/processed/pickles/y_train.p', 'wb'))\n",
    "pickle.dump(x_train, open('../../data/processed/pickles/x_train.p', 'wb'))\n",
    "pickle.dump(x_test, open('../../data/processed/pickles/x_test.p', 'wb'))"
   ]
  },
  {
   "cell_type": "code",
   "execution_count": null,
   "metadata": {},
   "outputs": [],
   "source": []
  },
  {
   "cell_type": "code",
   "execution_count": null,
   "metadata": {},
   "outputs": [],
   "source": []
  }
 ],
 "metadata": {
  "kernelspec": {
   "display_name": "Python 3",
   "language": "python",
   "name": "python3"
  },
  "language_info": {
   "codemirror_mode": {
    "name": "ipython",
    "version": 3
   },
   "file_extension": ".py",
   "mimetype": "text/x-python",
   "name": "python",
   "nbconvert_exporter": "python",
   "pygments_lexer": "ipython3",
   "version": "3.7.6"
  }
 },
 "nbformat": 4,
 "nbformat_minor": 4
}
