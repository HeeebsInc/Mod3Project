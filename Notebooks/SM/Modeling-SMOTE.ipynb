{
 "cells": [
  {
   "cell_type": "code",
   "execution_count": 13,
   "metadata": {},
   "outputs": [],
   "source": [
    "from sklearn.linear_model import LogisticRegression, SGDClassifier, RidgeClassifier\n",
    "from sklearn.naive_bayes import GaussianNB, MultinomialNB\n",
    "from sklearn.svm import SVC,LinearSVC\n",
    "from sklearn.neighbors import KNeighborsClassifier\n",
    "from sklearn.model_selection import RepeatedStratifiedKFold, cross_val_score, GridSearchCV\n",
    "from sklearn.metrics import classification_report\n",
    "import matplotlib.pyplot as plt\n",
    "from sklearn.tree import DecisionTreeClassifier\n",
    "from sklearn.ensemble import RandomForestClassifier, StackingClassifier, BaggingClassifier, AdaBoostClassifier\n",
    "from sklearn.discriminant_analysis import LinearDiscriminantAnalysis\n",
    "from tqdm import tqdm\n",
    "from sklearn.preprocessing import StandardScaler\n",
    "\n",
    "import pickle\n",
    "import pandas as pd\n",
    "\n",
    "pd.options.display.max_rows = 35 \n",
    "pd.options.display.max_columns = None"
   ]
  },
  {
   "cell_type": "code",
   "execution_count": 14,
   "metadata": {},
   "outputs": [
    {
     "name": "stdout",
     "output_type": "stream",
     "text": [
      "Train X: (81342, 53)\tTrain y: (81342, 1)\n",
      "Test X: (8588, 53)\tTest y: (8588, 1)\n"
     ]
    }
   ],
   "source": [
    "def get_pickles(): \n",
    "    x_train = pickle.load(open(f'../../data/processed/pickles/SMOTE_x_train.p', 'rb'))\n",
    "    x_test = pickle.load(open(f'../../data/processed/pickles/SMOTE_x_test.p', 'rb'))\n",
    "    y_train = pickle.load(open(f'../../data/processed/pickles/SMOTE_y_train.p', 'rb'))\n",
    "    y_test = pickle.load(open(f'../../data/processed/pickles/SMOTE_y_test.p', 'rb'))\n",
    "#     X = pickle.load(open('../../data/processed/pickles/SMOTE_X.p', 'rb'))\n",
    "#     y = pickle.load(open('../../data/processed/pickles/cluster_y.p', 'rb'))\n",
    "\n",
    "    return (x_train, x_test, y_train, y_test)\n",
    "\n",
    "(x_train, x_test, y_train, y_test) = get_pickles()\n",
    "\n",
    "# print(f'Original X: {X.shape}\\tOriginal y: {y.shape}')\n",
    "print(f'Train X: {x_train.shape}\\tTrain y: {y_train.shape}')\n",
    "print(f'Test X: {x_test.shape}\\tTest y: {y_test.shape}')\n",
    "\n",
    "y_train = y_train.target.values.ravel()\n",
    "y_test = y_test.target.values.ravel()\n",
    "# y = y.target.values.ravel()\n",
    "\n",
    "standard = StandardScaler() \n",
    "x_train[['amount_tsh', 'gps_height', \n",
    "         'population', 'time_passed']] = standard.fit_transform(x_train[['amount_tsh', \n",
    "                                                                         'gps_height', 'population', 'time_passed']])"
   ]
  },
  {
   "cell_type": "code",
   "execution_count": null,
   "metadata": {},
   "outputs": [],
   "source": []
  },
  {
   "cell_type": "markdown",
   "metadata": {},
   "source": [
    "### Baseline Testing for Models and Stacked"
   ]
  },
  {
   "cell_type": "code",
   "execution_count": null,
   "metadata": {},
   "outputs": [
    {
     "name": "stderr",
     "output_type": "stream",
     "text": [
      "Evaluating STACKED:  90%|█████████████████████████████████████████████████████████████████████████████████████████████████████████████████████             | 9/10 [07:09<00:46, 46.03s/it]"
     ]
    }
   ],
   "source": [
    "\n",
    "\n",
    "models = {'log': LogisticRegression(solver = 'lbfgs'),\n",
    "          'knn': KNeighborsClassifier(),\n",
    "          'dt': DecisionTreeClassifier(), \n",
    "          'Gaussian': GaussianNB(), 'LDA': LinearDiscriminantAnalysis(),\n",
    "           #'LinearSVC': LinearSVC(max_iter = 1250), 'SDGSVC': SGDClassifier(),  \n",
    "          'ada': AdaBoostClassifier(), \n",
    "            'Bagging': BaggingClassifier(),'ridge': RidgeClassifier(), \n",
    "          'rf': RandomForestClassifier(),\n",
    "        }\n",
    "#create stacked model\n",
    "stack_m = [] \n",
    "for model, m in models.items(): \n",
    "    stack_m.append((model, m))\n",
    "stack_model = StackingClassifier(estimators = stack_m, final_estimator = LogisticRegression(solver = 'lbfgs'), cv = 5)\n",
    "models['stacked'] = stack_model\n",
    "\n",
    "#test each model and stacking\n",
    "results = []\n",
    "model_names = []\n",
    "pbar = tqdm(models.items())\n",
    "for model, m in pbar: \n",
    "    pbar.set_description(f'Evaluating {model.upper()}')\n",
    "    cv = RepeatedStratifiedKFold(n_splits = 10, n_repeats = 5)\n",
    "    scores = cross_val_score(m, x_train, y_train, scoring = 'accuracy', cv = cv, n_jobs = 14, \n",
    "                             error_score = 'raise')\n",
    "    results.append(scores)\n",
    "    model_names.append(model)\n",
    "    "
   ]
  },
  {
   "cell_type": "code",
   "execution_count": null,
   "metadata": {},
   "outputs": [],
   "source": [
    "vanilla_dict = {i:y for i,y in zip(model_names, results)}\n",
    "pickle.dump(vanilla_dict, open('../../models/VanillaResults2.p', 'wb'))"
   ]
  },
  {
   "cell_type": "code",
   "execution_count": null,
   "metadata": {},
   "outputs": [],
   "source": [
    "plt.figure(figsize = (10,8))\n",
    "plt.boxplot(results, labels = model_names, showmeans = True)\n",
    "plt.title('Accuracy for Each Vanilla Model')\n",
    "plt.ylabel('Accuracy'); plt.xlabel('Model')\n",
    "plt.savefig('figures/BaselineAccuracy3.png')\n",
    "plt.show()"
   ]
  },
  {
   "cell_type": "code",
   "execution_count": null,
   "metadata": {},
   "outputs": [],
   "source": []
  },
  {
   "cell_type": "code",
   "execution_count": null,
   "metadata": {},
   "outputs": [],
   "source": []
  },
  {
   "cell_type": "code",
   "execution_count": null,
   "metadata": {},
   "outputs": [],
   "source": []
  },
  {
   "cell_type": "code",
   "execution_count": 11,
   "metadata": {},
   "outputs": [
    {
     "data": {
      "image/png": "[encoded data removed]",
      "text/plain": [
       "<Figure size 720x576 with 1 Axes>"
      ]
     },
     "metadata": {
      "needs_background": "light"
     },
     "output_type": "display_data"
    }
   ],
   "source": [
    "plt.figure(figsize = (10,8))\n",
    "plt.boxplot(results, labels = model_names, showmeans = True)\n",
    "plt.title('Accuracy for Each Vanilla Model')\n",
    "plt.ylabel('Accuracy'); plt.xlabel('Model')\n",
    "plt.savefig('figures/BaselineAccuracy2.png')\n",
    "plt.show()"
   ]
  },
  {
   "cell_type": "code",
   "execution_count": null,
   "metadata": {},
   "outputs": [],
   "source": []
  },
  {
   "cell_type": "code",
   "execution_count": null,
   "metadata": {},
   "outputs": [],
   "source": []
  },
  {
   "cell_type": "code",
   "execution_count": null,
   "metadata": {},
   "outputs": [],
   "source": []
  },
  {
   "cell_type": "code",
   "execution_count": null,
   "metadata": {},
   "outputs": [],
   "source": []
  },
  {
   "cell_type": "code",
   "execution_count": null,
   "metadata": {},
   "outputs": [],
   "source": []
  },
  {
   "cell_type": "code",
   "execution_count": null,
   "metadata": {},
   "outputs": [],
   "source": []
  },
  {
   "cell_type": "code",
   "execution_count": 5,
   "metadata": {},
   "outputs": [
    {
     "data": {
      "image/png": "[encoded data removed]",
      "text/plain": [
       "<Figure size 720x576 with 1 Axes>"
      ]
     },
     "metadata": {
      "needs_background": "light"
     },
     "output_type": "display_data"
    }
   ],
   "source": [
    "plt.figure(figsize = (10,8))\n",
    "plt.boxplot(results, labels = model_names, showmeans = True)\n",
    "plt.title('Accuracy for Each Vanilla Model')\n",
    "plt.ylabel('Accuracy'); plt.xlabel('Model')\n",
    "plt.savefig('figures/BaselineAccuracy2.png')\n",
    "plt.show()"
   ]
  },
  {
   "cell_type": "code",
   "execution_count": null,
   "metadata": {},
   "outputs": [],
   "source": []
  },
  {
   "cell_type": "code",
   "execution_count": null,
   "metadata": {},
   "outputs": [],
   "source": []
  }
 ],
 "metadata": {
  "kernelspec": {
   "display_name": "Python 3",
   "language": "python",
   "name": "python3"
  },
  "language_info": {
   "codemirror_mode": {
    "name": "ipython",
    "version": 3
   },
   "file_extension": ".py",
   "mimetype": "text/x-python",
   "name": "python",
   "nbconvert_exporter": "python",
   "pygments_lexer": "ipython3",
   "version": "3.7.6"
  }
 },
 "nbformat": 4,
 "nbformat_minor": 4
}
