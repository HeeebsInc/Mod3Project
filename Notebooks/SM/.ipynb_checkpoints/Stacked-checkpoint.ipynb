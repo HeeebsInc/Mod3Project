{
 "cells": [
  {
   "cell_type": "code",
   "execution_count": 1,
   "metadata": {},
   "outputs": [],
   "source": [
    "from sklearn.linear_model import LogisticRegression, SGDClassifier, RidgeClassifier\n",
    "from sklearn.naive_bayes import GaussianNB, MultinomialNB\n",
    "from sklearn.svm import SVC,LinearSVC\n",
    "from sklearn.neighbors import KNeighborsClassifier\n",
    "from sklearn.model_selection import RepeatedStratifiedKFold, cross_val_score, GridSearchCV, RandomizedSearchCV\n",
    "from sklearn.metrics import classification_report, plot_confusion_matrix\n",
    "import matplotlib.pyplot as plt\n",
    "from sklearn.tree import DecisionTreeClassifier\n",
    "from sklearn.ensemble import RandomForestClassifier, StackingClassifier, BaggingClassifier, AdaBoostClassifier\n",
    "from sklearn.discriminant_analysis import LinearDiscriminantAnalysis\n",
    "from tqdm import tqdm\n",
    "from sklearn.preprocessing import StandardScaler\n",
    "\n",
    "\n",
    "import pickle\n",
    "import pandas as pd\n",
    "\n",
    "pd.options.display.max_rows = 35 \n",
    "pd.options.display.max_columns = None"
   ]
  },
  {
   "cell_type": "code",
   "execution_count": 2,
   "metadata": {},
   "outputs": [
    {
     "name": "stdout",
     "output_type": "stream",
     "text": [
      "Original X: (57247, 53)\tOriginal y: (57247, 1)\n",
      "Train X: (35090, 53)\tTrain y: (35090, 1)\n",
      "Test X: (8588, 53)\tTest y: (8588, 1)\n",
      "1    21545\n",
      "0    13545\n",
      "Name: target, dtype: int64\n"
     ]
    }
   ],
   "source": [
    "def get_pickles(): \n",
    "    x_train = pickle.load(open(f'../../data/processed/pickles/x_train.p', 'rb'))\n",
    "    x_test = pickle.load(open(f'../../data/processed/pickles/x_test.p', 'rb'))\n",
    "    y_train = pickle.load(open(f'../../data/processed/pickles/y_train.p', 'rb'))\n",
    "    y_test = pickle.load(open(f'../../data/processed/pickles/y_test.p', 'rb'))\n",
    "    X = pickle.load(open('../../data/processed/pickles/X.p', 'rb'))\n",
    "    y = pickle.load(open('../../data/processed/pickles/y.p', 'rb'))\n",
    "\n",
    "    return (x_train, x_test, y_train, y_test), (X,y)\n",
    "\n",
    "(x_train, x_test, y_train, y_test), (X,y) = get_pickles()\n",
    "\n",
    "print(f'Original X: {X.shape}\\tOriginal y: {y.shape}')\n",
    "print(f'Train X: {x_train.shape}\\tTrain y: {y_train.shape}')\n",
    "print(f'Test X: {x_test.shape}\\tTest y: {y_test.shape}')\n",
    "print(y_train.target.value_counts())\n",
    "y_train = y_train.target.values.ravel()\n",
    "y_test = y_test.target.values.ravel()\n",
    "y = y.target.values.ravel()\n",
    "\n",
    "standard = StandardScaler() \n",
    "x_train[['amount_tsh', 'gps_height', \n",
    "         'population', 'time_passed']] = standard.fit_transform(x_train[['amount_tsh', \n",
    "                                                                         'gps_height', 'population', 'time_passed']])"
   ]
  },
  {
   "cell_type": "code",
   "execution_count": null,
   "metadata": {},
   "outputs": [],
   "source": [
    "len(x_train) + len(x_test)"
   ]
  },
  {
   "cell_type": "code",
   "execution_count": 3,
   "metadata": {},
   "outputs": [
    {
     "data": {
      "text/plain": [
       "0.6245924545877969"
      ]
     },
     "execution_count": 3,
     "metadata": {},
     "output_type": "execute_result"
    }
   ],
   "source": [
    "\n",
    "\n",
    "models = {\n",
    "  'dt': DecisionTreeClassifier(), \n",
    "            'Bagging': BaggingClassifier(),\n",
    "          'rf': RandomForestClassifier(),\n",
    "        }\n",
    "#create stacked model\n",
    "stack_m = [] \n",
    "for model, m in models.items(): \n",
    "    stack_m.append((model, m))\n",
    "stack_model = StackingClassifier(estimators = stack_m, final_estimator = LogisticRegression(), cv = 5)\n",
    "models['stacked'] = stack_model\n",
    "\n",
    "# #test each model and stacking\n",
    "# results = []\n",
    "# model_names = []\n",
    "# pbar = tqdm(models.items())\n",
    "# for model, m in pbar: \n",
    "#     pbar.set_description(f'Evaluating {model.upper()}')\n",
    "#     cv = RepeatedStratifiedKFold(n_splits = 10, n_repeats = 5)\n",
    "#     scores = cross_val_score(m, x_train, y_train, scoring = 'accuracy', cv = cv, n_jobs = 14, \n",
    "#                              error_score = 'raise')\n",
    "#     results.append(scores)\n",
    "#     model_names.append(model)\n",
    "\n",
    "\n",
    "stack_model\n",
    "stack_model.fit(x_train, y_train) \n",
    "stack_model.score(x_train, y_train )\n",
    "stack_model.score(x_test, y_test)"
   ]
  },
  {
   "cell_type": "code",
   "execution_count": null,
   "metadata": {},
   "outputs": [
    {
     "name": "stdout",
     "output_type": "stream",
     "text": [
      "Fitting 25 folds for each of 10 candidates, totalling 250 fits\n"
     ]
    },
    {
     "name": "stderr",
     "output_type": "stream",
     "text": [
      "[Parallel(n_jobs=14)]: Using backend LokyBackend with 14 concurrent workers.\n",
      "[Parallel(n_jobs=14)]: Done  13 tasks      | elapsed:   10.3s\n"
     ]
    }
   ],
   "source": [
    "from mlxtend.classifier import StackingCVClassifier\n",
    "\n",
    "classifiers = [DecisionTreeClassifier(), BaggingClassifier(), RandomForestClassifier()]\n",
    "sclf = StackingCVClassifier(classifiers = classifiers, meta_classifier = LogisticRegression(), random_state = 10)\n",
    "\n",
    "params = {\n",
    "    'decisiontreeclassifier__criterion': ['gini', 'entropy'],\n",
    "    'decisiontreeclassifier__splitter': ['best', 'random'],\n",
    "    'decisiontreeclassifier__max_depth': [None, 125, 500, 1000],\n",
    "    'decisiontreeclassifier__min_samples_split': [8, 10, 15],\n",
    "    'decisiontreeclassifier__min_samples_leaf': [3, 5, 10], \n",
    "    'decisiontreeclassifier__max_features': ['auto', 'sqrt', 'log2'],\n",
    "    'decisiontreeclassifier__max_leaf_nodes': [None, 25,  50],\n",
    "    \n",
    "    'randomforestclassifier__criterion': ['gini', 'entropy'],\n",
    "    'randomforestclassifier__max_depth': [None, 50, 100, 150, 200],\n",
    "    'randomforestclassifier__min_samples_split': [8,10, 15],\n",
    "    'randomforestclassifier__min_samples_leaf': [3, 5, 10],\n",
    "    'randomforestclassifier__max_features': ['auto', 'sqrt', 'log2'],\n",
    "    'randomforestclassifier__max_leaf_nodes': [None, 25, 50], \n",
    "    'randomforestclassifier__bootstrap': [False, True],\n",
    "    \n",
    "    'baggingclassifier__n_estimators': [10, 5], \n",
    "#     'baggingclassifier__bootstrap': [True, False],\n",
    "#     'baggingclassifier__bootstrap_features': [True, False],\n",
    "\n",
    "    \n",
    "    'meta_classifier__C': [.1, .5, 1, 1.25, 1.5, 2], \n",
    "    'meta_classifier__max_iter': [100, 1000,2000],\n",
    "    'meta_classifier__penalty': ['l1', 'l2'],\n",
    "    'meta_classifier__solver': ['sag', 'saga', 'liblinear', 'lbfgs', 'newton-cg'],\n",
    "    'meta_classifier__multi_class': ['ovr', 'multinomial']  \n",
    "    \n",
    "    \n",
    "}\n",
    "cv = RepeatedStratifiedKFold(n_splits = 5, n_repeats = 5)\n",
    "gs = RandomizedSearchCV(estimator = sclf, param_distributions = params, cv = cv, n_jobs = 14, verbose = 2)\n",
    "gs.fit(x_train,y_train)"
   ]
  },
  {
   "cell_type": "code",
   "execution_count": null,
   "metadata": {},
   "outputs": [],
   "source": [
    "pickle.dump(gs, open('../../models/Logistic_GridSearch.p', 'wb'))\n",
    "gs.best_estimator_"
   ]
  },
  {
   "cell_type": "code",
   "execution_count": null,
   "metadata": {},
   "outputs": [],
   "source": [
    "#TUNED STACKED\n",
    "\n",
    "models = {\n",
    "          'dt': DecisionTreeClassifier(criterion='entropy',\n",
    "                                                         max_features='sqrt',\n",
    "                                                         max_leaf_nodes=25,\n",
    "                                                         min_samples_leaf=5,\n",
    "                                                         min_samples_split=8,\n",
    "                                                         splitter='random'), \n",
    "          \n",
    "            'Bagging': BaggingClassifier(),\n",
    "          'rf': RandomForestClassifier(max_depth=150, max_features='sqrt',\n",
    "                                                         min_samples_leaf=5,\n",
    "                                                         min_samples_split=15),\n",
    "        }\n",
    "stack_m = [] \n",
    "\n",
    "stack_tuned =  StackingClassifier(estimators = stack_m, final_estimator = LogisticRegression(C=1.5, max_iter=1000,\n",
    "                                                        multi_class='ovr',\n",
    "                                                        solver='newton-cg'), cv = 5)\n",
    "stack_tuned.fit(x_train, y_train) \n",
    "print('Train', stack_tuned.score(x_train, y_train))\n",
    "print('Test', stack_tuned.score(x_test, y_test))\n",
    "\n",
    "cm_tuned = plot_confusion_matrix(estimator = stack_tuned, X = x_test, y_true = y_test, \n",
    "                                display_labels = ['functional', 'repair'])"
   ]
  },
  {
   "cell_type": "code",
   "execution_count": null,
   "metadata": {},
   "outputs": [],
   "source": []
  },
  {
   "cell_type": "code",
   "execution_count": null,
   "metadata": {},
   "outputs": [],
   "source": [
    "plot_confusion_matrix(estimator = stack_model, X = x_test, y_true = y_test, values_format = 'd', \n",
    "                      display_labels = ['functional', 'repair'])"
   ]
  },
  {
   "cell_type": "code",
   "execution_count": null,
   "metadata": {},
   "outputs": [],
   "source": []
  },
  {
   "cell_type": "code",
   "execution_count": null,
   "metadata": {},
   "outputs": [],
   "source": []
  },
  {
   "cell_type": "code",
   "execution_count": null,
   "metadata": {},
   "outputs": [],
   "source": []
  },
  {
   "cell_type": "code",
   "execution_count": null,
   "metadata": {},
   "outputs": [],
   "source": []
  },
  {
   "cell_type": "code",
   "execution_count": null,
   "metadata": {},
   "outputs": [],
   "source": [
    "\n",
    "rf = RandomForestClassifier()\n",
    "rf.fit(x_train, y_train)\n",
    "rf.score(x_test, y_test)\n",
    "plot_confusion_matrix(estimator = rf, X = x_test, y_true = y_test, values_format = 'd', \n",
    "                     display_labels = ['functional', 'repair'])"
   ]
  },
  {
   "cell_type": "code",
   "execution_count": null,
   "metadata": {},
   "outputs": [],
   "source": [
    "\n",
    "param_grid = {\n",
    "     'criterion': ['gini', 'entropy'],\n",
    "    'max_depth': [None, 50, 100, 150, 200],\n",
    "    'min_samples_split': [8,10, 15],\n",
    "    'min_samples_leaf': [3, 5, 10],\n",
    "    'max_features': ['auto', 'sqrt', 'log2'],\n",
    "    'max_leaf_nodes': [None, 25, 50], \n",
    "}\n",
    "rf = RandomForestClassifier()\n",
    "\n",
    "\n",
    "cv = RepeatedStratifiedKFold(n_splits = 5, n_repeats = 5)\n",
    "gs = RandomizedSearchCV(estimator = rf, param_distributions = param_grid, cv = cv, n_jobs = 13, verbose = 2)\n",
    "\n",
    "gs.fit(x_train, y_train)"
   ]
  },
  {
   "cell_type": "code",
   "execution_count": null,
   "metadata": {},
   "outputs": [],
   "source": [
    "gs.best_estimator_"
   ]
  },
  {
   "cell_type": "code",
   "execution_count": null,
   "metadata": {},
   "outputs": [],
   "source": [
    "rf_tuned = RandomForestClassifier(max_depth=150, max_features='sqrt', min_samples_leaf=3,\n",
    "                       min_samples_split=10)\n",
    "rf_tuned.fit(x_train, y_train)\n",
    "plot_confusion_matrix(rf_tuned, x_test, y_test)"
   ]
  },
  {
   "cell_type": "code",
   "execution_count": null,
   "metadata": {},
   "outputs": [],
   "source": []
  },
  {
   "cell_type": "code",
   "execution_count": null,
   "metadata": {},
   "outputs": [],
   "source": []
  }
 ],
 "metadata": {
  "kernelspec": {
   "display_name": "Python 3",
   "language": "python",
   "name": "python3"
  },
  "language_info": {
   "codemirror_mode": {
    "name": "ipython",
    "version": 3
   },
   "file_extension": ".py",
   "mimetype": "text/x-python",
   "name": "python",
   "nbconvert_exporter": "python",
   "pygments_lexer": "ipython3",
   "version": "3.7.6"
  }
 },
 "nbformat": 4,
 "nbformat_minor": 4
}
