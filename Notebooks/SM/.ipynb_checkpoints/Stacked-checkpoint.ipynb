{
 "cells": [
  {
   "cell_type": "code",
   "execution_count": 20,
   "metadata": {},
   "outputs": [],
   "source": [
    "from sklearn.linear_model import LogisticRegression, SGDClassifier, RidgeClassifier\n",
    "from sklearn.naive_bayes import GaussianNB, MultinomialNB\n",
    "from sklearn.svm import SVC,LinearSVC\n",
    "from sklearn.neighbors import KNeighborsClassifier\n",
    "from sklearn.model_selection import RepeatedStratifiedKFold, cross_val_score, GridSearchCV, RandomizedSearchCV\n",
    "from sklearn.metrics import classification_report\n",
    "import matplotlib.pyplot as plt\n",
    "from sklearn.tree import DecisionTreeClassifier\n",
    "from sklearn.ensemble import RandomForestClassifier, StackingClassifier, BaggingClassifier, AdaBoostClassifier\n",
    "from sklearn.discriminant_analysis import LinearDiscriminantAnalysis\n",
    "from tqdm import tqdm\n",
    "from sklearn.preprocessing import StandardScaler\n",
    "\n",
    "import pickle\n",
    "import pandas as pd\n",
    "\n",
    "pd.options.display.max_rows = 35 \n",
    "pd.options.display.max_columns = None"
   ]
  },
  {
   "cell_type": "code",
   "execution_count": 14,
   "metadata": {},
   "outputs": [
    {
     "name": "stdout",
     "output_type": "stream",
     "text": [
      "Original X: (57247, 53)\tOriginal y: (57247, 1)\n",
      "Train X: (32317, 53)\tTrain y: (32317, 1)\n",
      "Test X: (8588, 53)\tTest y: (8588, 1)\n",
      "1    21545\n",
      "0    10772\n",
      "Name: target, dtype: int64\n"
     ]
    }
   ],
   "source": [
    "def get_pickles(): \n",
    "    x_train = pickle.load(open(f'../../data/processed/pickles/x_train.p', 'rb'))\n",
    "    x_test = pickle.load(open(f'../../data/processed/pickles/x_test.p', 'rb'))\n",
    "    y_train = pickle.load(open(f'../../data/processed/pickles/y_train.p', 'rb'))\n",
    "    y_test = pickle.load(open(f'../../data/processed/pickles/y_test.p', 'rb'))\n",
    "    X = pickle.load(open('../../data/processed/pickles/X.p', 'rb'))\n",
    "    y = pickle.load(open('../../data/processed/pickles/y.p', 'rb'))\n",
    "\n",
    "    return (x_train, x_test, y_train, y_test), (X,y)\n",
    "\n",
    "(x_train, x_test, y_train, y_test), (X,y) = get_pickles()\n",
    "\n",
    "print(f'Original X: {X.shape}\\tOriginal y: {y.shape}')\n",
    "print(f'Train X: {x_train.shape}\\tTrain y: {y_train.shape}')\n",
    "print(f'Test X: {x_test.shape}\\tTest y: {y_test.shape}')\n",
    "print(y_train.target.value_counts())\n",
    "y_train = y_train.target.values.ravel()\n",
    "y_test = y_test.target.values.ravel()\n",
    "y = y.target.values.ravel()\n",
    "\n",
    "standard = StandardScaler() \n",
    "x_train[['amount_tsh', 'gps_height', \n",
    "         'population', 'time_passed']] = standard.fit_transform(x_train[['amount_tsh', \n",
    "                                                                         'gps_height', 'population', 'time_passed']])"
   ]
  },
  {
   "cell_type": "code",
   "execution_count": 15,
   "metadata": {},
   "outputs": [
    {
     "data": {
      "text/plain": [
       "40905"
      ]
     },
     "execution_count": 15,
     "metadata": {},
     "output_type": "execute_result"
    }
   ],
   "source": [
    "len(x_train) + len(x_test)"
   ]
  },
  {
   "cell_type": "code",
   "execution_count": 7,
   "metadata": {},
   "outputs": [
    {
     "data": {
      "text/plain": [
       "0.6004890544946437"
      ]
     },
     "execution_count": 7,
     "metadata": {},
     "output_type": "execute_result"
    }
   ],
   "source": [
    "\n",
    "\n",
    "models = {#'log': LogisticRegression(max_iter = 2000),\n",
    "          #'knn': KNeighborsClassifier(),\n",
    "          'dt': DecisionTreeClassifier(), \n",
    "          #'Gaussian': GaussianNB(), 'LDA': LinearDiscriminantAnalysis(),\n",
    "#           'LinearSVC': LinearSVC(max_iter = 1250), 'SDGSVC': SGDClassifier(),  \n",
    "          #'ada': AdaBoostClassifier(), \n",
    "            'Bagging': BaggingClassifier(),# 'ridge': RidgeClassifier(), \n",
    "          'rf': RandomForestClassifier(),\n",
    "        }\n",
    "#create stacked model\n",
    "stack_m = [] \n",
    "for model, m in models.items(): \n",
    "    stack_m.append((model, m))\n",
    "stack_model = StackingClassifier(estimators = stack_m, final_estimator = LogisticRegression(), cv = 5)\n",
    "models['stacked'] = stack_model\n",
    "\n",
    "# #test each model and stacking\n",
    "# results = []\n",
    "# model_names = []\n",
    "# pbar = tqdm(models.items())\n",
    "# for model, m in pbar: \n",
    "#     pbar.set_description(f'Evaluating {model.upper()}')\n",
    "#     cv = RepeatedStratifiedKFold(n_splits = 10, n_repeats = 5)\n",
    "#     scores = cross_val_score(m, x_train, y_train, scoring = 'accuracy', cv = cv, n_jobs = 14, \n",
    "#                              error_score = 'raise')\n",
    "#     results.append(scores)\n",
    "#     model_names.append(model)\n",
    "\n",
    "\n",
    "stack_model\n",
    "stack_model.fit(x_train, y_train) \n",
    "stack_model.score(x_train, y_train )\n",
    "stack_model.score(x_test, y_test)"
   ]
  },
  {
   "cell_type": "code",
   "execution_count": 8,
   "metadata": {},
   "outputs": [
    {
     "data": {
      "text/plain": [
       "<sklearn.metrics._plot.confusion_matrix.ConfusionMatrixDisplay at 0x215607c6848>"
      ]
     },
     "execution_count": 8,
     "metadata": {},
     "output_type": "execute_result"
    },
    {
     "data": {
      "image/png": "[encoded data removed]",
      "text/plain": [
       "<Figure size 432x288 with 2 Axes>"
      ]
     },
     "metadata": {
      "needs_background": "light"
     },
     "output_type": "display_data"
    },
    {
     "data": {
      "image/png": "[encoded data removed]",
      "text/plain": [
       "<Figure size 432x288 with 2 Axes>"
      ]
     },
     "metadata": {
      "needs_background": "light"
     },
     "output_type": "display_data"
    }
   ],
   "source": [
    "from sklearn.metrics import plot_confusion_matrix\n",
    "\n",
    "plot_confusion_matrix(estimator = stack_model, X = x_test, y_true = y_test, values_format = 'd', \n",
    "                      display_labels = ['functional', 'repair'])\n",
    "\n",
    "plot_confusion_matrix(estimator = stack_model, X = x_train, y_true = y_train, values_format = 'd', \n",
    "                      display_labels = ['functional', 'repair'])"
   ]
  },
  {
   "cell_type": "code",
   "execution_count": null,
   "metadata": {},
   "outputs": [],
   "source": []
  },
  {
   "cell_type": "code",
   "execution_count": null,
   "metadata": {},
   "outputs": [
    {
     "name": "stdout",
     "output_type": "stream",
     "text": [
      "Fitting 15 folds for each of 10 candidates, totalling 150 fits\n"
     ]
    },
    {
     "name": "stderr",
     "output_type": "stream",
     "text": [
      "[Parallel(n_jobs=4)]: Using backend LokyBackend with 4 concurrent workers.\n"
     ]
    }
   ],
   "source": [
    "from mlxtend.classifier import StackingCVClassifier\n",
    "\n",
    "classifiers = [DecisionTreeClassifier(), BaggingClassifier(), RandomForestClassifier()]\n",
    "sclf = StackingCVClassifier(classifiers = classifiers, meta_classifier = LogisticRegression(), random_state = 10)\n",
    "\n",
    "params = {\n",
    "    'decisiontreeclassifier__criterion': ['gini', 'entropy'],\n",
    "    'decisiontreeclassifier__splitter': ['best', 'random'],\n",
    "    'decisiontreeclassifier__max_depth': [None, 50, 100],\n",
    "    'decisiontreeclassifier__min_samples_split': [2, 5, 8],\n",
    "    'decisiontreeclassifier__min_samples_leaf': [1, 3, 5], \n",
    "    'decisiontreeclassifier__max_features': ['auto', 'sqrt', 'log2'],\n",
    "    'decisiontreeclassifier__max_leaf_nodes': [None, 50, 100], \n",
    "    \n",
    "    'randomforestclassifier__criterion': ['gini', 'entropy'],\n",
    "    'randomforestclassifier__max_depth': [None, 50, 100],\n",
    "    'randomforestclassifier__min_samples_split': [2, 5, 8],\n",
    "    'randomforestclassifier__min_samples_leaf': [1, 3, 5], \n",
    "    'randomforestclassifier__max_features': ['auto', 'sqrt', 'log2'],\n",
    "    'randomforestclassifier__max_leaf_nodes': [None, 50, 100], \n",
    "    \n",
    "    'meta_classifier__C': [.1, 10], \n",
    "    'meta_classifier__max_iter': [100, 1000,],\n",
    "    'meta_classifier__penalty': ['l1', 'l2'],\n",
    "    'meta_classifier__solver': ['sag', 'saga', 'liblinear', 'lbfgs', 'newton-cg'],\n",
    "    'meta_classifier__multi_class': ['ovr']  \n",
    "    \n",
    "    \n",
    "}\n",
    "cv = RepeatedStratifiedKFold(n_splits = 5, n_repeats = 3)\n",
    "gs = RandomizedSearchCV(estimator = sclf, param_distributions = params, cv = cv, n_jobs = 3, verbose = 2)\n",
    "gs.fit(X,y)"
   ]
  },
  {
   "cell_type": "code",
   "execution_count": null,
   "metadata": {},
   "outputs": [],
   "source": [
    "pickle.dump('hello', open('../../models/Stacked_GridSearch.p', 'wb'))\n",
    "gs.best_estimator_"
   ]
  },
  {
   "cell_type": "code",
   "execution_count": null,
   "metadata": {},
   "outputs": [],
   "source": []
  },
  {
   "cell_type": "code",
   "execution_count": null,
   "metadata": {},
   "outputs": [],
   "source": []
  },
  {
   "cell_type": "code",
   "execution_count": null,
   "metadata": {},
   "outputs": [],
   "source": []
  },
  {
   "cell_type": "code",
   "execution_count": null,
   "metadata": {},
   "outputs": [],
   "source": [
    "from sklearn.metrics import plot_confusion_matrix\n",
    "\n",
    "rf = RandomForestClassifier()\n",
    "rf.fit(x_train, y_train)\n",
    "rf.score(x_test, y_test)\n",
    "plot_confusion_matrix(estimator = rf, X = x_test, y_true = y_test, values_format = 'd', \n",
    "                     display_labels = ['functional', 'repair'])"
   ]
  },
  {
   "cell_type": "code",
   "execution_count": null,
   "metadata": {},
   "outputs": [],
   "source": [
    "\n",
    "plot_confusion_matrix(estimator = stack_model, X = x_test, y_true = y_test, values_format = 'd', \n",
    "                      display_labels = ['functional', 'repair'])"
   ]
  },
  {
   "cell_type": "code",
   "execution_count": null,
   "metadata": {},
   "outputs": [],
   "source": []
  },
  {
   "cell_type": "code",
   "execution_count": null,
   "metadata": {},
   "outputs": [],
   "source": []
  },
  {
   "cell_type": "code",
   "execution_count": null,
   "metadata": {},
   "outputs": [],
   "source": []
  }
 ],
 "metadata": {
  "kernelspec": {
   "display_name": "Python 3",
   "language": "python",
   "name": "python3"
  },
  "language_info": {
   "codemirror_mode": {
    "name": "ipython",
    "version": 3
   },
   "file_extension": ".py",
   "mimetype": "text/x-python",
   "name": "python",
   "nbconvert_exporter": "python",
   "pygments_lexer": "ipython3",
   "version": "3.7.6"
  }
 },
 "nbformat": 4,
 "nbformat_minor": 4
}
