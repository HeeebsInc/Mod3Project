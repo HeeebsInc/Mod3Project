{
 "cells": [
  {
   "cell_type": "code",
   "execution_count": 1,
   "metadata": {},
   "outputs": [],
   "source": [
    "from sklearn.linear_model import LogisticRegression, SGDClassifier, RidgeClassifier\n",
    "from sklearn.naive_bayes import GaussianNB, MultinomialNB\n",
    "from sklearn.svm import SVC,LinearSVC\n",
    "from sklearn.neighbors import KNeighborsClassifier\n",
    "from sklearn.model_selection import RepeatedStratifiedKFold, cross_val_score, GridSearchCV, RandomizedSearchCV\n",
    "from sklearn.metrics import classification_report, plot_confusion_matrix\n",
    "import matplotlib.pyplot as plt\n",
    "from sklearn.tree import DecisionTreeClassifier\n",
    "from sklearn.ensemble import RandomForestClassifier, StackingClassifier, BaggingClassifier, AdaBoostClassifier\n",
    "from sklearn.discriminant_analysis import LinearDiscriminantAnalysis\n",
    "from tqdm import tqdm\n",
    "from sklearn.preprocessing import StandardScaler\n",
    "\n",
    "import pickle\n",
    "import pandas as pd\n",
    "\n",
    "pd.options.display.max_rows = 35 \n",
    "pd.options.display.max_columns = None"
   ]
  },
  {
   "cell_type": "code",
   "execution_count": null,
   "metadata": {},
   "outputs": [],
   "source": []
  },
  {
   "cell_type": "code",
   "execution_count": 2,
   "metadata": {},
   "outputs": [
    {
     "name": "stdout",
     "output_type": "stream",
     "text": [
      "Original X: (57247, 45)\tOriginal y: (57247, 1)\n",
      "Train X: (42935, 45)\tTrain y: (42935, 1)\n",
      "Test X: (14312, 45)\tTest y: (14312, 1)\n"
     ]
    }
   ],
   "source": [
    "def get_pickles(): \n",
    "    x_train = pickle.load(open(f'../../data/processed/pickles/basin_x_train.p', 'rb'))\n",
    "    x_test = pickle.load(open(f'../../data/processed/pickles/basin_x_test.p', 'rb'))\n",
    "    y_train = pickle.load(open(f'../../data/processed/pickles/basin_y_train.p', 'rb'))\n",
    "    y_test = pickle.load(open(f'../../data/processed/pickles/basin_y_test.p', 'rb'))\n",
    "    X = pickle.load(open('../../data/processed/pickles/basin_X.p', 'rb'))\n",
    "    y = pickle.load(open('../../data/processed/pickles/basin_y.p', 'rb'))\n",
    "\n",
    "    return (x_train, x_test, y_train, y_test), (X,y)\n",
    "\n",
    "(x_train, x_test, y_train, y_test), (X,y) = get_pickles()\n",
    "\n",
    "unique_basin = X.basin.unique() \n",
    "print(f'Original X: {X.shape}\\tOriginal y: {y.shape}')\n",
    "print(f'Train X: {x_train.shape}\\tTrain y: {y_train.shape}')\n",
    "print(f'Test X: {x_test.shape}\\tTest y: {y_test.shape}')\n",
    "\n",
    "y_train = y_train.target.values.ravel()\n",
    "y_test = y_test.target.values.ravel()\n",
    "y = y.target.values.ravel()\n",
    "\n",
    "standard = StandardScaler() \n",
    "x_train[['amount_tsh', 'gps_height', \n",
    "         'population', 'time_passed']] = standard.fit_transform(x_train[['amount_tsh', \n",
    "                                                                         'gps_height', 'population', 'time_passed']])"
   ]
  },
  {
   "cell_type": "code",
   "execution_count": 16,
   "metadata": {},
   "outputs": [],
   "source": [
    "X['target'] = y\n",
    "x_test['target'] = y_test\n",
    "x_train['target'] = y_train"
   ]
  },
  {
   "cell_type": "code",
   "execution_count": 70,
   "metadata": {},
   "outputs": [],
   "source": [
    "import os \n",
    "from mlxtend.classifier import StackingCVClassifier\n",
    "\n",
    "\n",
    "scores = []\n",
    "basins = []\n",
    "basin_model_dict= {} \n",
    "pbar = os.listdir('../../data/processed/pickles/basins/')\n",
    "for i in os.listdir('../../data/processed/pickles/basins/'):\n",
    "    if i == '.DS_Store': \n",
    "        continue \n",
    "    basins.append(i)\n",
    "    #pbar.set_description(f'Testing Classifier for: {i.upper()}')\n",
    "    x_train = pickle.load(open(f'../../data/processed/pickles/basins/{i}/x_train.p', 'rb'))\n",
    "    x_test = pickle.load(open(f'../../data/processed/pickles/basins/{i}/x_test.p', 'rb'))\n",
    "    y_train = pickle.load(open(f'../../data/processed/pickles/basins/{i}/y_train.p', 'rb'))\n",
    "    y_test = pickle.load(open(f'../../data/processed/pickles/basins/{i}/y_test.p', 'rb'))\n",
    "    \n",
    "    x_train.drop('basin', axis =1, inplace = True)\n",
    "    x_test.drop('basin', axis =1, inplace = True)\n",
    "    y_train = y_train.values.ravel()\n",
    "    y_test = y_test.values.ravel()   \n",
    "    \n",
    "   \n",
    "    standard = StandardScaler()\n",
    "    x_train[['amount_tsh', 'gps_height', 'population', 'time_passed', 'longitude', 'latitude']] = standard.fit_transform(\n",
    "                                 x_train[['amount_tsh', 'gps_height', 'population', 'time_passed', 'longitude', 'latitude']]\n",
    "    )\n",
    "    x_test[['amount_tsh', 'gps_height', 'population', 'time_passed', 'longitude', 'latitude']] = standard.fit_transform(\n",
    "        x_test[['amount_tsh', 'gps_height', 'population', 'time_passed', 'longitude', 'latitude']]\n",
    "    )\n",
    "    cv = RepeatedStratifiedKFold(n_splits = 5, n_repeats = 3)\n",
    "    classifiers = [DecisionTreeClassifier(), RandomForestClassifier()]\n",
    "    sclf = StackingCVClassifier(classifiers = classifiers, meta_classifier = LogisticRegression(), random_state = 10)\n",
    "\n",
    "    params = {\n",
    "    'decisiontreeclassifier__criterion': ['gini', 'entropy'],\n",
    "    'decisiontreeclassifier__splitter': ['best', 'random'],\n",
    "    'decisiontreeclassifier__max_depth': [None, 125, 500, 1000],\n",
    "    'decisiontreeclassifier__min_samples_split': [8, 10, 15],\n",
    "    'decisiontreeclassifier__min_samples_leaf': [3, 5, 10], \n",
    "    'decisiontreeclassifier__max_features': ['auto', 'sqrt', 'log2'],\n",
    "    'decisiontreeclassifier__max_leaf_nodes': [None, 25,  50],\n",
    "    \n",
    "    'randomforestclassifier__criterion': ['gini', 'entropy'],\n",
    "    'randomforestclassifier__max_depth': [None, 50, 100, 150, 200],\n",
    "    'randomforestclassifier__min_samples_split': [8,10, 15],\n",
    "    'randomforestclassifier__min_samples_leaf': [3, 5, 10],\n",
    "    'randomforestclassifier__max_features': ['auto', 'sqrt', 'log2'],\n",
    "    'randomforestclassifier__max_leaf_nodes': [None, 25, 50], \n",
    "    'randomforestclassifier__bootstrap': [False, True],\n",
    "      \n",
    "    'meta_classifier__C': [.1, .5, 1, 1.25, 1.5, 2], \n",
    "    'meta_classifier__max_iter': [100, 1000,2000],\n",
    "    'meta_classifier__penalty': ['l1', 'l2'],\n",
    "    'meta_classifier__solver': ['sag', 'saga', 'liblinear', 'lbfgs', 'newton-cg'],\n",
    "    'meta_classifier__multi_class': ['ovr', 'multinomial']    \n",
    "}\n",
    "    cv = RepeatedStratifiedKFold(n_splits = 5, n_repeats = 3)\n",
    "    gs = RandomizedSearchCV(estimator = sclf, param_distributions = params, cv = cv, n_jobs = 13, verbose = 1, n_iter = 13)\n",
    "    gs.fit(x_train,y_train)\n",
    "    pickle.dump(gs, open(f'../../models/Basins/{i}_GridSearch.p', 'wb'))\n",
    "    basin_dict = dict(model = gs, x_train = x_train, y_train = y_train, x_test = x_test, y_test = y_test) \n",
    "    basin_model_dict[i] = basin_dict\n",
    "    \n",
    "\n",
    "    "
   ]
  },
  {
   "cell_type": "code",
   "execution_count": 74,
   "metadata": {
    "scrolled": true
   },
   "outputs": [
    {
     "name": "stdout",
     "output_type": "stream",
     "text": [
      "Fitting 15 folds for each of 30 candidates, totalling 450 fits\n"
     ]
    },
    {
     "name": "stderr",
     "output_type": "stream",
     "text": [
      "[Parallel(n_jobs=13)]: Using backend LokyBackend with 13 concurrent workers.\n",
      "[Parallel(n_jobs=13)]: Done  15 tasks      | elapsed:    1.4s\n",
      "[Parallel(n_jobs=13)]: Done 136 tasks      | elapsed:    8.3s\n",
      "[Parallel(n_jobs=13)]: Done 339 tasks      | elapsed:   20.2s\n",
      "[Parallel(n_jobs=13)]: Done 450 out of 450 | elapsed:   26.4s finished\n"
     ]
    },
    {
     "name": "stdout",
     "output_type": "stream",
     "text": [
      "Fitting 15 folds for each of 30 candidates, totalling 450 fits\n"
     ]
    },
    {
     "name": "stderr",
     "output_type": "stream",
     "text": [
      "[Parallel(n_jobs=13)]: Using backend LokyBackend with 13 concurrent workers.\n",
      "[Parallel(n_jobs=13)]: Done  15 tasks      | elapsed:    0.9s\n",
      "[Parallel(n_jobs=13)]: Done 136 tasks      | elapsed:    5.2s\n",
      "[Parallel(n_jobs=13)]: Done 339 tasks      | elapsed:   12.7s\n",
      "[Parallel(n_jobs=13)]: Done 450 out of 450 | elapsed:   16.6s finished\n"
     ]
    },
    {
     "name": "stdout",
     "output_type": "stream",
     "text": [
      "Fitting 15 folds for each of 30 candidates, totalling 450 fits\n"
     ]
    },
    {
     "name": "stderr",
     "output_type": "stream",
     "text": [
      "[Parallel(n_jobs=13)]: Using backend LokyBackend with 13 concurrent workers.\n",
      "[Parallel(n_jobs=13)]: Done  15 tasks      | elapsed:    1.3s\n",
      "[Parallel(n_jobs=13)]: Done 136 tasks      | elapsed:    9.2s\n",
      "[Parallel(n_jobs=13)]: Done 339 tasks      | elapsed:   23.9s\n",
      "[Parallel(n_jobs=13)]: Done 450 out of 450 | elapsed:   31.2s finished\n"
     ]
    },
    {
     "name": "stdout",
     "output_type": "stream",
     "text": [
      "Fitting 15 folds for each of 30 candidates, totalling 450 fits\n"
     ]
    },
    {
     "name": "stderr",
     "output_type": "stream",
     "text": [
      "[Parallel(n_jobs=13)]: Using backend LokyBackend with 13 concurrent workers.\n",
      "[Parallel(n_jobs=13)]: Done  15 tasks      | elapsed:    1.2s\n",
      "[Parallel(n_jobs=13)]: Done 136 tasks      | elapsed:    8.4s\n",
      "[Parallel(n_jobs=13)]: Done 339 tasks      | elapsed:   20.8s\n",
      "[Parallel(n_jobs=13)]: Done 450 out of 450 | elapsed:   27.8s finished\n"
     ]
    },
    {
     "name": "stdout",
     "output_type": "stream",
     "text": [
      "Fitting 15 folds for each of 30 candidates, totalling 450 fits\n"
     ]
    },
    {
     "name": "stderr",
     "output_type": "stream",
     "text": [
      "[Parallel(n_jobs=13)]: Using backend LokyBackend with 13 concurrent workers.\n",
      "[Parallel(n_jobs=13)]: Done  15 tasks      | elapsed:    0.6s\n",
      "[Parallel(n_jobs=13)]: Done 136 tasks      | elapsed:    3.6s\n",
      "[Parallel(n_jobs=13)]: Done 339 tasks      | elapsed:    8.8s\n",
      "[Parallel(n_jobs=13)]: Done 450 out of 450 | elapsed:   11.5s finished\n"
     ]
    },
    {
     "name": "stdout",
     "output_type": "stream",
     "text": [
      "Fitting 15 folds for each of 30 candidates, totalling 450 fits\n"
     ]
    },
    {
     "name": "stderr",
     "output_type": "stream",
     "text": [
      "[Parallel(n_jobs=13)]: Using backend LokyBackend with 13 concurrent workers.\n",
      "[Parallel(n_jobs=13)]: Done  15 tasks      | elapsed:    0.8s\n",
      "[Parallel(n_jobs=13)]: Done 136 tasks      | elapsed:    5.3s\n",
      "[Parallel(n_jobs=13)]: Done 339 tasks      | elapsed:   13.0s\n",
      "[Parallel(n_jobs=13)]: Done 450 out of 450 | elapsed:   17.1s finished\n"
     ]
    },
    {
     "name": "stdout",
     "output_type": "stream",
     "text": [
      "Fitting 15 folds for each of 30 candidates, totalling 450 fits\n"
     ]
    },
    {
     "name": "stderr",
     "output_type": "stream",
     "text": [
      "[Parallel(n_jobs=13)]: Using backend LokyBackend with 13 concurrent workers.\n",
      "[Parallel(n_jobs=13)]: Done  15 tasks      | elapsed:    1.2s\n",
      "[Parallel(n_jobs=13)]: Done 136 tasks      | elapsed:    6.5s\n",
      "[Parallel(n_jobs=13)]: Done 339 tasks      | elapsed:   15.5s\n",
      "[Parallel(n_jobs=13)]: Done 450 out of 450 | elapsed:   20.1s finished\n"
     ]
    },
    {
     "name": "stdout",
     "output_type": "stream",
     "text": [
      "Fitting 15 folds for each of 30 candidates, totalling 450 fits\n"
     ]
    },
    {
     "name": "stderr",
     "output_type": "stream",
     "text": [
      "[Parallel(n_jobs=13)]: Using backend LokyBackend with 13 concurrent workers.\n",
      "[Parallel(n_jobs=13)]: Done  15 tasks      | elapsed:    1.5s\n",
      "[Parallel(n_jobs=13)]: Done 136 tasks      | elapsed:    8.6s\n",
      "[Parallel(n_jobs=13)]: Done 339 tasks      | elapsed:   21.3s\n",
      "[Parallel(n_jobs=13)]: Done 450 out of 450 | elapsed:   28.0s finished\n"
     ]
    },
    {
     "name": "stdout",
     "output_type": "stream",
     "text": [
      "Fitting 15 folds for each of 30 candidates, totalling 450 fits\n"
     ]
    },
    {
     "name": "stderr",
     "output_type": "stream",
     "text": [
      "[Parallel(n_jobs=13)]: Using backend LokyBackend with 13 concurrent workers.\n",
      "[Parallel(n_jobs=13)]: Done  15 tasks      | elapsed:    1.0s\n",
      "[Parallel(n_jobs=13)]: Done 136 tasks      | elapsed:    6.0s\n",
      "[Parallel(n_jobs=13)]: Done 339 tasks      | elapsed:   15.1s\n",
      "[Parallel(n_jobs=13)]: Done 450 out of 450 | elapsed:   19.7s finished\n"
     ]
    }
   ],
   "source": [
    "import os \n",
    "\n",
    "scores = []\n",
    "basins = []\n",
    "basin_model_dict= {} \n",
    "pbar = os.listdir('../../data/processed/pickles/basins/')\n",
    "for i in os.listdir('../../data/processed/pickles/basins/'):\n",
    "    if i == '.DS_Store': \n",
    "        continue \n",
    "    basins.append(i)\n",
    "    #pbar.set_description(f'Testing Classifier for: {i.upper()}')\n",
    "    x_train = pickle.load(open(f'../../data/processed/pickles/basins/{i}/x_train.p', 'rb'))\n",
    "    x_test = pickle.load(open(f'../../data/processed/pickles/basins/{i}/x_test.p', 'rb'))\n",
    "    y_train = pickle.load(open(f'../../data/processed/pickles/basins/{i}/y_train.p', 'rb'))\n",
    "    y_test = pickle.load(open(f'../../data/processed/pickles/basins/{i}/y_test.p', 'rb'))\n",
    "    \n",
    "    x_train.drop('basin', axis =1, inplace = True)\n",
    "    x_test.drop('basin', axis =1, inplace = True)\n",
    "    y_train = y_train.values.ravel()\n",
    "    y_test = y_test.values.ravel()\n",
    "    \n",
    "    rf = RandomForestClassifier()\n",
    "   \n",
    "    \n",
    "#     plot_confusion_matrix(rf, x_test, y_test)\n",
    "    param_grid = {\n",
    "     'criterion': ['gini', 'entropy'],\n",
    "    'max_depth': [100, 250, 300, 350, 450],\n",
    "    'min_samples_split': [5, 8,10],\n",
    "    'min_samples_leaf': [3, 5, 10],\n",
    "    'max_features': ['sqrt', 'log2'],\n",
    "}\n",
    "    standard = StandardScaler()\n",
    "    x_train[['amount_tsh', 'gps_height', 'population', 'time_passed', 'longitude', 'latitude']] = standard.fit_transform(\n",
    "                                 x_train[['amount_tsh', 'gps_height', 'population', 'time_passed', 'longitude', 'latitude']]\n",
    "    )\n",
    "    x_test[['amount_tsh', 'gps_height', 'population', 'time_passed', 'longitude', 'latitude']] = standard.fit_transform(\n",
    "        x_test[['amount_tsh', 'gps_height', 'population', 'time_passed', 'longitude', 'latitude']]\n",
    "    )\n",
    "    cv = RepeatedStratifiedKFold(n_splits = 5, n_repeats = 3)\n",
    "    gs = RandomizedSearchCV(estimator = rf, param_distributions = param_grid, cv = cv, n_jobs = 13, verbose = 2, \n",
    "                            n_iter = 30)\n",
    "\n",
    "    gs.fit(x_train, y_train)\n",
    "    pickle.dump(gs, open(f'../../models/Basins/{i}_GridSearch.p', 'wb'))\n",
    "    basin_dict = dict(model = gs, x_train = x_train, y_train = y_train, x_test = x_test, y_test = y_test) \n",
    "    basin_model_dict[i] = basin_dict\n",
    "    \n",
    "\n",
    "pickle.dump(basin_model_dict, open(f'../../models/Basins/TunedModels.p', 'wb'))\n",
    "    "
   ]
  },
  {
   "cell_type": "code",
   "execution_count": 75,
   "metadata": {},
   "outputs": [
    {
     "name": "stdout",
     "output_type": "stream",
     "text": [
      "int\n",
      "RandomForestClassifier(criterion='entropy', max_depth=250, max_features='sqrt',\n",
      "                       min_samples_leaf=3, min_samples_split=5)\n",
      "nya\n",
      "RandomForestClassifier(max_depth=350, max_features='sqrt', min_samples_leaf=3,\n",
      "                       min_samples_split=5)\n",
      "pang\n",
      "RandomForestClassifier(criterion='entropy', max_depth=250, max_features='sqrt',\n",
      "                       min_samples_leaf=3, min_samples_split=5)\n",
      "ruf\n",
      "RandomForestClassifier(criterion='entropy', max_depth=250, max_features='sqrt',\n",
      "                       min_samples_leaf=3, min_samples_split=5)\n",
      "rukwa\n",
      "RandomForestClassifier(criterion='entropy', max_depth=350, max_features='sqrt',\n",
      "                       min_samples_leaf=3, min_samples_split=5)\n",
      "ruv\n",
      "RandomForestClassifier(criterion='entropy', max_depth=250, max_features='sqrt',\n",
      "                       min_samples_leaf=3, min_samples_split=5)\n",
      "tang\n",
      "RandomForestClassifier(criterion='entropy', max_depth=350, max_features='sqrt',\n",
      "                       min_samples_leaf=3, min_samples_split=5)\n",
      "vic\n",
      "RandomForestClassifier(max_depth=300, max_features='sqrt', min_samples_leaf=3,\n",
      "                       min_samples_split=5)\n",
      "wami\n",
      "RandomForestClassifier(criterion='entropy', max_depth=450, max_features='sqrt',\n",
      "                       min_samples_leaf=3, min_samples_split=8)\n"
     ]
    }
   ],
   "source": [
    "# fig, ax = plt.subplots(1, len(basin_model_dict.keys()))\n",
    "for idx, i in enumerate(basin_model_dict.keys()): \n",
    "    print(i)\n",
    "    basin_dict = basin_model_dict[i]\n",
    "    model = basin_dict['model']\n",
    "    print(model.best_estimator_)"
   ]
  },
  {
   "cell_type": "code",
   "execution_count": null,
   "metadata": {},
   "outputs": [],
   "source": []
  },
  {
   "cell_type": "code",
   "execution_count": 17,
   "metadata": {},
   "outputs": [
    {
     "ename": "ZeroDivisionError",
     "evalue": "integer division or modulo by zero",
     "output_type": "error",
     "traceback": [
      "\u001b[1;31m---------------------------------------------------------------------------\u001b[0m",
      "\u001b[1;31mZeroDivisionError\u001b[0m                         Traceback (most recent call last)",
      "\u001b[1;32m<ipython-input-17-b4e3223798ce>\u001b[0m in \u001b[0;36m<module>\u001b[1;34m\u001b[0m\n\u001b[1;32m----> 1\u001b[1;33m \u001b[1;36m3\u001b[0m\u001b[1;33m//\u001b[0m\u001b[1;36m0\u001b[0m\u001b[1;33m\u001b[0m\u001b[1;33m\u001b[0m\u001b[0m\n\u001b[0m",
      "\u001b[1;31mZeroDivisionError\u001b[0m: integer division or modulo by zero"
     ]
    }
   ],
   "source": [
    "3//0"
   ]
  },
  {
   "cell_type": "code",
   "execution_count": 26,
   "metadata": {},
   "outputs": [
    {
     "data": {
      "image/png": "[encoded data removed]",
      "text/plain": [
       "<Figure size 864x504 with 18 Axes>"
      ]
     },
     "metadata": {
      "needs_background": "light"
     },
     "output_type": "display_data"
    }
   ],
   "source": [
    "fig, ax = plt.subplots(3, 3, figsize = (12,7))\n",
    "for idx, i in enumerate(basin_model_dict.keys()): \n",
    "    basin_dict = basin_model_dict[i]\n",
    "    plot_confusion_matrix(basin_dict['model'], basin_dict['x_test'], basin_dict['y_test'], \n",
    "                          display_labels = ['F', 'R'], ax = ax[idx//3, idx%3])\n",
    "    ax[idx//3, idx%3].set_title(f'{i}')\n",
    "plt.tight_layout()\n",
    "plt.savefig(f'figures/confusion_matrix.png')"
   ]
  },
  {
   "cell_type": "code",
   "execution_count": 9,
   "metadata": {},
   "outputs": [
    {
     "name": "stderr",
     "output_type": "stream",
     "text": [
      "KFold: wami: 100%|████████████████████████████████████████████████████████████████████████████████████████████████████████████████████████████████████████| 9/9 [01:17<00:00,  8.63s/it]\n"
     ]
    }
   ],
   "source": [
    "basin_model_dict = pickle.load(open(f'../../models/Basins/TunedModels.p', 'rb'))\n",
    "pbar = tqdm(basin_model_dict.keys())\n",
    "final_results = {} \n",
    "for bas in pbar: \n",
    "    pbar.set_description(f'KFold: {bas}')\n",
    "    model = basin_model_dict[bas]['model'].best_estimator_\n",
    "    x_train = basin_model_dict[bas]['x_train']\n",
    "    x_test = basin_model_dict[bas]['x_test']\n",
    "    X = x_train.append(x_test, ignore_index = True)\n",
    "    \n",
    "    y_train = pd.DataFrame(basin_model_dict[bas]['y_train'], columns = ['target'])\n",
    "    y_test = pd.DataFrame(basin_model_dict[bas]['y_test'], columns = ['target'])\n",
    "    y = y_train.append(y_test, ignore_index = True)\n",
    "    cv = RepeatedStratifiedKFold(n_splits = 10, n_repeats = 10)\n",
    "    scores = cross_val_score(model, X, y.target.values, scoring = 'accuracy', cv = cv, n_jobs = 12, \n",
    "                             error_score = 'raise')\n",
    "    final_results[bas]=  scores\n",
    "    \n"
   ]
  },
  {
   "cell_type": "code",
   "execution_count": 10,
   "metadata": {},
   "outputs": [
    {
     "data": {
      "text/plain": [
       "{'int': array([0.86018957, 0.84123223, 0.86729858, 0.85189573, 0.8542654 ,\n",
       "        0.85781991, 0.84597156, 0.83886256, 0.83767773, 0.87677725,\n",
       "        0.86137441, 0.8471564 , 0.85308057, 0.86848341, 0.85308057,\n",
       "        0.8436019 , 0.84004739, 0.85663507, 0.85308057, 0.84597156,\n",
       "        0.87440758, 0.87677725, 0.8471564 , 0.8507109 , 0.87203791,\n",
       "        0.86255924, 0.84004739, 0.82938389, 0.83530806, 0.84597156,\n",
       "        0.83530806, 0.85781991, 0.83886256, 0.87203791, 0.83293839,\n",
       "        0.86611374, 0.85545024, 0.87322275, 0.83293839, 0.8542654 ,\n",
       "        0.86848341, 0.85545024, 0.87203791, 0.82464455, 0.8507109 ,\n",
       "        0.84004739, 0.85189573, 0.84597156, 0.83175355, 0.86848341,\n",
       "        0.84478673, 0.83412322, 0.86966825, 0.85900474, 0.85545024,\n",
       "        0.83886256, 0.8507109 , 0.84123223, 0.86255924, 0.8542654 ,\n",
       "        0.84004739, 0.85545024, 0.86492891, 0.83886256, 0.86611374,\n",
       "        0.83767773, 0.8471564 , 0.85545024, 0.86848341, 0.84004739,\n",
       "        0.85781991, 0.87440758, 0.82227488, 0.87203791, 0.86255924,\n",
       "        0.85545024, 0.85781991, 0.85308057, 0.8507109 , 0.85545024,\n",
       "        0.85781991, 0.83767773, 0.86018957, 0.84123223, 0.86611374,\n",
       "        0.8436019 , 0.87322275, 0.8471564 , 0.84241706, 0.87203791,\n",
       "        0.82227488, 0.85189573, 0.86848341, 0.86137441, 0.85781991,\n",
       "        0.85189573, 0.87203791, 0.83412322, 0.84478673, 0.86729858]),\n",
       " 'nya': array([0.90177134, 0.90821256, 0.88566828, 0.91304348, 0.90499195,\n",
       "        0.90982287, 0.88709677, 0.90483871, 0.91774194, 0.92258065,\n",
       "        0.90499195, 0.91626409, 0.90177134, 0.90982287, 0.90177134,\n",
       "        0.90660225, 0.90806452, 0.89193548, 0.90322581, 0.89354839,\n",
       "        0.89694042, 0.90499195, 0.90499195, 0.88727858, 0.90982287,\n",
       "        0.90982287, 0.91612903, 0.9       , 0.91935484, 0.90967742,\n",
       "        0.88405797, 0.90660225, 0.90821256, 0.9178744 , 0.87922705,\n",
       "        0.89694042, 0.92096774, 0.92258065, 0.8983871 , 0.92419355,\n",
       "        0.89855072, 0.89049919, 0.91143317, 0.91143317, 0.90821256,\n",
       "        0.91304348, 0.91612903, 0.91129032, 0.90483871, 0.89516129,\n",
       "        0.90177134, 0.91626409, 0.89855072, 0.89371981, 0.9178744 ,\n",
       "        0.90660225, 0.91935484, 0.90645161, 0.89032258, 0.91774194,\n",
       "        0.90499195, 0.9178744 , 0.91626409, 0.90016103, 0.8921095 ,\n",
       "        0.89855072, 0.90322581, 0.90322581, 0.89354839, 0.91451613,\n",
       "        0.90338164, 0.90016103, 0.92753623, 0.88888889, 0.89694042,\n",
       "        0.89533011, 0.89193548, 0.92096774, 0.92419355, 0.90645161,\n",
       "        0.90338164, 0.87600644, 0.90016103, 0.90499195, 0.90660225,\n",
       "        0.90499195, 0.92096774, 0.92903226, 0.93064516, 0.89354839,\n",
       "        0.91465378, 0.92592593, 0.90338164, 0.90821256, 0.89694042,\n",
       "        0.92431562, 0.91774194, 0.89354839, 0.91935484, 0.88709677]),\n",
       " 'pang': array([0.84282908, 0.82220039, 0.82399213, 0.82989184, 0.81219272,\n",
       "        0.83382498, 0.83677483, 0.86037365, 0.8259587 , 0.82792527,\n",
       "        0.82514735, 0.8280943 , 0.8387414 , 0.81219272, 0.84070796,\n",
       "        0.84562439, 0.83087512, 0.82989184, 0.82792527, 0.83480826,\n",
       "        0.84282908, 0.79862475, 0.8387414 , 0.85250737, 0.84070796,\n",
       "        0.8259587 , 0.83775811, 0.83185841, 0.82497542, 0.82989184,\n",
       "        0.83988212, 0.81532417, 0.84169125, 0.84365782, 0.84070796,\n",
       "        0.83087512, 0.820059  , 0.81415929, 0.82399213, 0.82989184,\n",
       "        0.8280943 , 0.83398821, 0.81907571, 0.84365782, 0.81612586,\n",
       "        0.84955752, 0.82989184, 0.82300885, 0.83087512, 0.83382498,\n",
       "        0.81925344, 0.85166994, 0.83480826, 0.8387414 , 0.83382498,\n",
       "        0.82694199, 0.81514258, 0.83480826, 0.820059  , 0.82300885,\n",
       "        0.82612967, 0.82318271, 0.8387414 , 0.83284169, 0.84365782,\n",
       "        0.83087512, 0.83087512, 0.80924287, 0.84365782, 0.82300885,\n",
       "        0.8388998 , 0.83300589, 0.8387414 , 0.82497542, 0.81612586,\n",
       "        0.82497542, 0.82399213, 0.84169125, 0.83185841, 0.83972468,\n",
       "        0.80451866, 0.83005894, 0.85349066, 0.82694199, 0.83972468,\n",
       "        0.81809243, 0.84070796, 0.84267453, 0.82989184, 0.83284169,\n",
       "        0.83497053, 0.83595285, 0.82890855, 0.8387414 , 0.81612586,\n",
       "        0.8259587 , 0.84857424, 0.8387414 , 0.84169125, 0.82300885]),\n",
       " 'ruf': array([0.83874346, 0.87853403, 0.8565445 , 0.87015707, 0.8617801 ,\n",
       "        0.86792453, 0.85220126, 0.8721174 , 0.86163522, 0.8312369 ,\n",
       "        0.85235602, 0.86073298, 0.84397906, 0.85026178, 0.84502618,\n",
       "        0.85953878, 0.8836478 , 0.860587  , 0.85953878, 0.85429769,\n",
       "        0.84188482, 0.87329843, 0.85968586, 0.85445026, 0.85445026,\n",
       "        0.8197065 , 0.84800839, 0.85953878, 0.87002096, 0.860587  ,\n",
       "        0.85759162, 0.85863874, 0.88167539, 0.87120419, 0.83874346,\n",
       "        0.85534591, 0.86582809, 0.84067086, 0.84486373, 0.860587  ,\n",
       "        0.85863874, 0.87329843, 0.8460733 , 0.84188482, 0.8565445 ,\n",
       "        0.86897275, 0.82704403, 0.84696017, 0.86268344, 0.860587  ,\n",
       "        0.85445026, 0.86492147, 0.85549738, 0.87434555, 0.86596859,\n",
       "        0.86268344, 0.85953878, 0.8427673 , 0.83962264, 0.85534591,\n",
       "        0.87120419, 0.85340314, 0.82827225, 0.85863874, 0.88272251,\n",
       "        0.84381551, 0.86897275, 0.87002096, 0.83752621, 0.860587  ,\n",
       "        0.84712042, 0.86492147, 0.85445026, 0.85759162, 0.87015707,\n",
       "        0.86373166, 0.87106918, 0.85115304, 0.84381551, 0.85639413,\n",
       "        0.85340314, 0.85968586, 0.85026178, 0.86282723, 0.84502618,\n",
       "        0.85953878, 0.85744235, 0.860587  , 0.8490566 , 0.86792453,\n",
       "        0.8617801 , 0.86073298, 0.84293194, 0.86806283, 0.84188482,\n",
       "        0.85744235, 0.85639413, 0.85010482, 0.88259958, 0.8427673 ]),\n",
       " 'rukwa': array([0.81203008, 0.77819549, 0.81132075, 0.79245283, 0.80754717,\n",
       "        0.78490566, 0.78490566, 0.78490566, 0.8       , 0.78867925,\n",
       "        0.79699248, 0.7556391 , 0.81509434, 0.79245283, 0.78113208,\n",
       "        0.82264151, 0.82264151, 0.81132075, 0.7509434 , 0.79622642,\n",
       "        0.83834586, 0.7406015 , 0.75471698, 0.8       , 0.8       ,\n",
       "        0.8       , 0.78113208, 0.82264151, 0.76981132, 0.7509434 ,\n",
       "        0.78947368, 0.77067669, 0.78867925, 0.76981132, 0.77735849,\n",
       "        0.78867925, 0.80377358, 0.74339623, 0.83018868, 0.80377358,\n",
       "        0.79323308, 0.7518797 , 0.79622642, 0.83396226, 0.77735849,\n",
       "        0.7509434 , 0.81132075, 0.79622642, 0.83773585, 0.76981132,\n",
       "        0.79323308, 0.83834586, 0.8       , 0.77358491, 0.71320755,\n",
       "        0.80377358, 0.75849057, 0.76226415, 0.80754717, 0.76981132,\n",
       "        0.7593985 , 0.78571429, 0.82264151, 0.76603774, 0.77358491,\n",
       "        0.7509434 , 0.83396226, 0.8       , 0.81509434, 0.78867925,\n",
       "        0.79699248, 0.77067669, 0.82641509, 0.76603774, 0.78490566,\n",
       "        0.80377358, 0.75849057, 0.78867925, 0.8       , 0.82641509,\n",
       "        0.7556391 , 0.82330827, 0.77358491, 0.78490566, 0.7509434 ,\n",
       "        0.76226415, 0.75849057, 0.84528302, 0.80377358, 0.80754717,\n",
       "        0.78571429, 0.78195489, 0.78490566, 0.7509434 , 0.80754717,\n",
       "        0.76981132, 0.78867925, 0.75849057, 0.8       , 0.83018868]),\n",
       " 'ruv': array([0.89134809, 0.84909457, 0.85483871, 0.88306452, 0.84879032,\n",
       "        0.87096774, 0.87096774, 0.875     , 0.8891129 , 0.875     ,\n",
       "        0.87525151, 0.89738431, 0.88104839, 0.87701613, 0.85483871,\n",
       "        0.87096774, 0.86895161, 0.88104839, 0.875     , 0.85483871,\n",
       "        0.87323944, 0.85513078, 0.87096774, 0.86491935, 0.86895161,\n",
       "        0.88508065, 0.875     , 0.86895161, 0.85887097, 0.86693548,\n",
       "        0.87726358, 0.86519115, 0.87903226, 0.84274194, 0.875     ,\n",
       "        0.84879032, 0.875     , 0.84879032, 0.90322581, 0.87096774,\n",
       "        0.86519115, 0.86519115, 0.88104839, 0.88508065, 0.86895161,\n",
       "        0.88104839, 0.87298387, 0.87701613, 0.86895161, 0.85282258,\n",
       "        0.85915493, 0.86720322, 0.90322581, 0.875     , 0.89112903,\n",
       "        0.87298387, 0.84274194, 0.86491935, 0.85685484, 0.86895161,\n",
       "        0.87525151, 0.87323944, 0.88104839, 0.87096774, 0.86290323,\n",
       "        0.86693548, 0.8608871 , 0.85887097, 0.875     , 0.89516129,\n",
       "        0.86317907, 0.88933602, 0.875     , 0.84677419, 0.87298387,\n",
       "        0.89112903, 0.875     , 0.85887097, 0.8608871 , 0.86491935,\n",
       "        0.83702213, 0.87525151, 0.88306452, 0.86290323, 0.87903226,\n",
       "        0.88508065, 0.88709677, 0.85483871, 0.875     , 0.88104839,\n",
       "        0.90342052, 0.86317907, 0.87298387, 0.85887097, 0.875     ,\n",
       "        0.875     , 0.86895161, 0.875     , 0.85685484, 0.89112903]),\n",
       " 'tang': array([0.79370079, 0.80944882, 0.79685039, 0.80944882, 0.82362205,\n",
       "        0.80314961, 0.78897638, 0.80472441, 0.80944882, 0.81388013,\n",
       "        0.79055118, 0.77795276, 0.83149606, 0.80629921, 0.79212598,\n",
       "        0.81417323, 0.82204724, 0.82204724, 0.8       , 0.8044164 ,\n",
       "        0.81417323, 0.82519685, 0.78897638, 0.79685039, 0.79685039,\n",
       "        0.81889764, 0.77322835, 0.76220472, 0.82204724, 0.83123028,\n",
       "        0.77952756, 0.80787402, 0.80314961, 0.80787402, 0.81259843,\n",
       "        0.78897638, 0.82677165, 0.82204724, 0.78897638, 0.79810726,\n",
       "        0.82204724, 0.79685039, 0.7984252 , 0.83307087, 0.79685039,\n",
       "        0.7984252 , 0.82047244, 0.78740157, 0.79685039, 0.80757098,\n",
       "        0.79527559, 0.78897638, 0.80787402, 0.8       , 0.78582677,\n",
       "        0.81102362, 0.82992126, 0.8015748 , 0.78897638, 0.82334385,\n",
       "        0.81102362, 0.79055118, 0.80314961, 0.8       , 0.81102362,\n",
       "        0.81574803, 0.80787402, 0.8       , 0.80944882, 0.8044164 ,\n",
       "        0.7984252 , 0.81574803, 0.80629921, 0.81259843, 0.77952756,\n",
       "        0.78267717, 0.83464567, 0.80629921, 0.82519685, 0.80757098,\n",
       "        0.8       , 0.78740157, 0.82047244, 0.79527559, 0.80314961,\n",
       "        0.81889764, 0.8015748 , 0.81102362, 0.79527559, 0.80283912,\n",
       "        0.81259843, 0.8015748 , 0.83307087, 0.77322835, 0.79527559,\n",
       "        0.81889764, 0.82992126, 0.80787402, 0.81259843, 0.78706625]),\n",
       " 'vic': array([0.80362538, 0.78952669, 0.79959718, 0.78247734, 0.79053374,\n",
       "        0.80463243, 0.79456193, 0.7693857 , 0.80966767, 0.82074522,\n",
       "        0.79355488, 0.79556898, 0.79657603, 0.78549849, 0.80866062,\n",
       "        0.80664653, 0.79254783, 0.80362538, 0.80060423, 0.77240685,\n",
       "        0.80463243, 0.79556898, 0.80161128, 0.80463243, 0.78449144,\n",
       "        0.79556898, 0.79657603, 0.81268882, 0.80966767, 0.79254783,\n",
       "        0.81671702, 0.78549849, 0.79355488, 0.79053374, 0.79959718,\n",
       "        0.80161128, 0.77744209, 0.79556898, 0.79456193, 0.80966767,\n",
       "        0.7713998 , 0.79254783, 0.79859013, 0.78851964, 0.78851964,\n",
       "        0.81067472, 0.79959718, 0.79556898, 0.80060423, 0.81671702,\n",
       "        0.78046324, 0.82779456, 0.79657603, 0.79456193, 0.80563948,\n",
       "        0.78650554, 0.81067472, 0.78549849, 0.79053374, 0.81772407,\n",
       "        0.78147029, 0.77844914, 0.78650554, 0.82376636, 0.80261833,\n",
       "        0.80765358, 0.79254783, 0.80866062, 0.79556898, 0.78751259,\n",
       "        0.80563948, 0.79657603, 0.79456193, 0.78549849, 0.80966767,\n",
       "        0.78650554, 0.80261833, 0.80866062, 0.78952669, 0.79355488,\n",
       "        0.78650554, 0.79959718, 0.79758308, 0.81067472, 0.79859013,\n",
       "        0.80362538, 0.77744209, 0.79657603, 0.79254783, 0.78147029,\n",
       "        0.81067472, 0.80563948, 0.81268882, 0.77643505, 0.79859013,\n",
       "        0.80563948, 0.77844914, 0.80161128, 0.78046324, 0.79456193]),\n",
       " 'wami': array([0.83006536, 0.84640523, 0.83823529, 0.8627451 , 0.87254902,\n",
       "        0.84313725, 0.87234043, 0.85924714, 0.85924714, 0.85106383,\n",
       "        0.84477124, 0.8496732 , 0.82843137, 0.86601307, 0.86928105,\n",
       "        0.86437908, 0.84288052, 0.84451718, 0.86252046, 0.87397709,\n",
       "        0.8496732 , 0.85130719, 0.83823529, 0.88235294, 0.84477124,\n",
       "        0.85947712, 0.83633388, 0.82978723, 0.87561375, 0.85761047,\n",
       "        0.85457516, 0.85620915, 0.84640523, 0.8627451 , 0.8627451 ,\n",
       "        0.85457516, 0.87561375, 0.85597381, 0.85433715, 0.8314239 ,\n",
       "        0.85294118, 0.86764706, 0.86437908, 0.83496732, 0.83823529,\n",
       "        0.84803922, 0.85270049, 0.86252046, 0.85761047, 0.87070376,\n",
       "        0.83496732, 0.8496732 , 0.87908497, 0.86111111, 0.85784314,\n",
       "        0.84313725, 0.87234043, 0.81669394, 0.85924714, 0.84779051,\n",
       "        0.8627451 , 0.87581699, 0.86437908, 0.83823529, 0.85620915,\n",
       "        0.83986928, 0.85106383, 0.84288052, 0.84779051, 0.86743044,\n",
       "        0.84150327, 0.86764706, 0.84477124, 0.85130719, 0.84803922,\n",
       "        0.83986928, 0.87070376, 0.8690671 , 0.82651391, 0.87070376,\n",
       "        0.86928105, 0.86111111, 0.84150327, 0.87418301, 0.85130719,\n",
       "        0.85130719, 0.84615385, 0.85433715, 0.84124386, 0.85597381,\n",
       "        0.85457516, 0.86764706, 0.8496732 , 0.86928105, 0.82352941,\n",
       "        0.84640523, 0.85270049, 0.86743044, 0.85761047, 0.87070376])}"
      ]
     },
     "execution_count": 10,
     "metadata": {},
     "output_type": "execute_result"
    }
   ],
   "source": [
    "final_results"
   ]
  },
  {
   "cell_type": "code",
   "execution_count": 12,
   "metadata": {},
   "outputs": [
    {
     "data": {
      "image/png": "[encoded data removed]",
      "text/plain": [
       "<Figure size 720x360 with 1 Axes>"
      ]
     },
     "metadata": {
      "needs_background": "light"
     },
     "output_type": "display_data"
    }
   ],
   "source": [
    "plt.figure(figsize = (10,5))\n",
    "names = final_results.keys()\n",
    "results = [i[1] for i in final_results.items()]\n",
    "plt.boxplot(results, labels = names)\n",
    "plt.title('Accuracy By Region')\n",
    "plt.xlabel('Region')\n",
    "plt.ylabel('Accuracy')\n",
    "plt.savefig('figures/ByRegionKFold.png')\n",
    "plt.show()"
   ]
  },
  {
   "cell_type": "code",
   "execution_count": null,
   "metadata": {},
   "outputs": [],
   "source": []
  },
  {
   "cell_type": "code",
   "execution_count": null,
   "metadata": {},
   "outputs": [],
   "source": []
  },
  {
   "cell_type": "code",
   "execution_count": null,
   "metadata": {},
   "outputs": [],
   "source": []
  }
 ],
 "metadata": {
  "kernelspec": {
   "display_name": "Python 3",
   "language": "python",
   "name": "python3"
  },
  "language_info": {
   "codemirror_mode": {
    "name": "ipython",
    "version": 3
   },
   "file_extension": ".py",
   "mimetype": "text/x-python",
   "name": "python",
   "nbconvert_exporter": "python",
   "pygments_lexer": "ipython3",
   "version": "3.7.6"
  }
 },
 "nbformat": 4,
 "nbformat_minor": 4
}
