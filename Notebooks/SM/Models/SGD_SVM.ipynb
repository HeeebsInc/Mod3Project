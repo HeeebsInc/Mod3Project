{
 "cells": [
  {
   "cell_type": "code",
   "execution_count": 13,
   "metadata": {},
   "outputs": [],
   "source": [
    "from sklearn.linear_model import SGDClassifier\n",
    "from sklearn.decomposition import PCA\n",
    "from sklearn.feature_selection import RFE \n",
    "from sklearn.preprocessing import StandardScaler\n",
    "from sklearn.model_selection import GridSearchCV\n",
    "import pickle \n",
    "import pandas as pd\n",
    "from tqdm import tqdm\n",
    "from sklearn.metrics import roc_auc_score"
   ]
  },
  {
   "cell_type": "code",
   "execution_count": 14,
   "metadata": {},
   "outputs": [
    {
     "name": "stdout",
     "output_type": "stream",
     "text": [
      "Original X: (57247, 55)\tOriginal y: (57247, 1)\n",
      "Train X: (42935, 54)\tTrain y: (42935, 1)\n",
      "Test X: (14312, 54)\tTest y: (14312, 1)\n"
     ]
    }
   ],
   "source": [
    "def get_pickles(): \n",
    "    x_train = pickle.load(open(f'../../../data/processed/pickles/cluster_x_train.p', 'rb'))\n",
    "    x_test = pickle.load(open(f'../../../data/processed/pickles/cluster_x_test.p', 'rb'))\n",
    "    y_train = pickle.load(open(f'../../../data/processed/pickles/cluster_y_train.p', 'rb'))\n",
    "    y_test = pickle.load(open(f'../../../data/processed/pickles/cluster_y_test.p', 'rb'))\n",
    "    X = pickle.load(open('../../../data/processed/pickles/cluster_X.p', 'rb'))\n",
    "    y = pickle.load(open('../../../data/processed/pickles/cluster_y.p', 'rb'))\n",
    "\n",
    "    return (x_train, x_test, y_train, y_test), (X,y)\n",
    "\n",
    "(x_train, x_test, y_train, y_test), (X,y) = get_pickles()\n",
    "\n",
    "\n",
    "print(f'Original X: {X.shape}\\tOriginal y: {y.shape}')\n",
    "print(f'Train X: {x_train.shape}\\tTrain y: {y_train.shape}')\n",
    "print(f'Test X: {x_test.shape}\\tTest y: {y_test.shape}')\n",
    "\n",
    "y_train = y_train.values.ravel()\n",
    "y_test = y_test.values.ravel()"
   ]
  },
  {
   "cell_type": "code",
   "execution_count": 19,
   "metadata": {},
   "outputs": [
    {
     "name": "stdout",
     "output_type": "stream",
     "text": [
      "Vanilla ROC: 0.6360571472410942\n"
     ]
    }
   ],
   "source": [
    "#Vanilla \n",
    "sgd_svm = SGDClassifier()\n",
    "sgd_svm.fit(x_train, y_train)\n",
    "pred = sgd_svm.predict(x_test)\n",
    "print(f'Vanilla ROC: {roc_auc_score(y_test, pred)}')"
   ]
  },
  {
   "cell_type": "code",
   "execution_count": 11,
   "metadata": {},
   "outputs": [
    {
     "name": "stderr",
     "output_type": "stream",
     "text": [
      "Testing 54 PCA Features || Best AUC: 0.6707173114074427 || Best n: 48: 100%|██████████████████████████████████████████████████████████████████████████████| 54/54 [00:53<00:00,  1.01it/s]\n"
     ]
    }
   ],
   "source": [
    "#PCA\n",
    "sgd_svm = SGDClassifier()\n",
    "best_score = 0 \n",
    "best_i = 0\n",
    "r_back = [i for i in range(1,len(x_train.columns)+1)]\n",
    "pbar = tqdm(r_back)\n",
    "for i in pbar: \n",
    "    pbar.set_description(f'Testing {i} PCA Features || Best AUC: {best_score} || Best n: {best_i}')\n",
    "    pca = PCA(n_components = i)\n",
    "    pca.fit(x_train)\n",
    "    x_train_new = pca.transform(x_train)\n",
    "    x_test_new = pca.transform(x_test)\n",
    "    lin_svm.fit(x_train_new,y_train)\n",
    "    pred = sgd_svm.predict(x_test_new)\n",
    "    roc_auc = roc_auc_score(y_test, pred)\n",
    "    if roc_auc > best_score: \n",
    "        best_score = roc_auc \n",
    "        best_i = i\n",
    "    #masks for columns that are important\n",
    "        pickle.dump(best_i, open('../../../models/SGDSVM_PCA.p', 'wb'))"
   ]
  },
  {
   "cell_type": "code",
   "execution_count": 12,
   "metadata": {},
   "outputs": [
    {
     "name": "stderr",
     "output_type": "stream",
     "text": [
      "Testing 52 Features || Best AUC: 0.6971892456171424 || Best n: 10: 100%|██████████████████████████████████████████████████████████████████████████████████| 45/45 [03:41<00:00,  4.92s/it]\n"
     ]
    }
   ],
   "source": [
    "sgd_svm = SGDClassifier()\n",
    "best_score = 0 \n",
    "best_i = 0\n",
    "r_back = [i for i in range(8,53)]\n",
    "pbar = tqdm(r_back)\n",
    "for i in pbar: \n",
    "    pbar.set_description(f'Testing {i} RFE Features || Best AUC: {best_score} || Best n: {best_i}')\n",
    "    rfe = RFE(sgd_svm, n_features_to_select = i, step = 3)\n",
    "\n",
    "    rfe.fit(x_train,y_train)\n",
    "    pred = rfe.predict(x_test)\n",
    "    roc_auc = roc_auc_score(y_test, pred)\n",
    "    if roc_auc > best_score: \n",
    "        best_score = roc_auc \n",
    "        best_i = i\n",
    "    #masks for columns that are important\n",
    "        column_masks = rfe.support_\n",
    "\n",
    "        orig_columns = x_train.columns\n",
    "        new_columns = [x for x,y in zip(orig_columns, column_masks) if y == True]\n",
    "        pickle.dump(new_columns, open('../../../models/SGDSVM_Columns.p', 'wb'))\n",
    "\n",
    "        \n"
   ]
  },
  {
   "cell_type": "code",
   "execution_count": 15,
   "metadata": {},
   "outputs": [
    {
     "name": "stdout",
     "output_type": "stream",
     "text": [
      "['basin_Lake Rukwa', 'extract_india mark ii', 'extract_climax', 'waterpoint_communal standpipe multiple', 'waterpoint_other', 'waterpoint_improved spring', 'quantity_enough', 'quantity_insufficient', 'quantity_dry', 'quantity_seasonal']\n"
     ]
    }
   ],
   "source": [
    "columns = pickle.load(open('../../../models/SGDSVM_Columns.p', 'rb'))\n",
    "print(columns)"
   ]
  },
  {
   "cell_type": "code",
   "execution_count": 16,
   "metadata": {},
   "outputs": [
    {
     "name": "stdout",
     "output_type": "stream",
     "text": [
      "Fitting 5 folds for each of 3840 candidates, totalling 19200 fits\n"
     ]
    },
    {
     "name": "stderr",
     "output_type": "stream",
     "text": [
      "[Parallel(n_jobs=10)]: Using backend LokyBackend with 10 concurrent workers.\n",
      "[Parallel(n_jobs=10)]: Done  21 tasks      | elapsed:    1.6s\n",
      "[Parallel(n_jobs=10)]: Done 142 tasks      | elapsed:    3.3s\n",
      "[Parallel(n_jobs=10)]: Done 345 tasks      | elapsed:    6.2s\n",
      "[Parallel(n_jobs=10)]: Done 628 tasks      | elapsed:   10.3s\n",
      "[Parallel(n_jobs=10)]: Done 993 tasks      | elapsed:   15.4s\n",
      "[Parallel(n_jobs=10)]: Done 1438 tasks      | elapsed:   21.7s\n",
      "[Parallel(n_jobs=10)]: Done 1965 tasks      | elapsed:   29.0s\n",
      "[Parallel(n_jobs=10)]: Done 2775 tasks      | elapsed:   47.6s\n",
      "[Parallel(n_jobs=10)]: Done 3491 tasks      | elapsed:  2.1min\n",
      "[Parallel(n_jobs=10)]: Done 4260 tasks      | elapsed:  3.7min\n",
      "[Parallel(n_jobs=10)]: Done 5181 tasks      | elapsed:  4.9min\n",
      "[Parallel(n_jobs=10)]: Done 6112 tasks      | elapsed:  5.2min\n",
      "[Parallel(n_jobs=10)]: Done 7125 tasks      | elapsed:  5.4min\n",
      "[Parallel(n_jobs=10)]: Done 8468 tasks      | elapsed:  6.0min\n",
      "[Parallel(n_jobs=10)]: Done 9863 tasks      | elapsed:  6.6min\n",
      "[Parallel(n_jobs=10)]: Done 11118 tasks      | elapsed:  6.9min\n",
      "[Parallel(n_jobs=10)]: Done 13006 tasks      | elapsed:  7.4min\n",
      "[Parallel(n_jobs=10)]: Done 14818 tasks      | elapsed:  8.0min\n",
      "[Parallel(n_jobs=10)]: Done 16320 tasks      | elapsed:  8.4min\n",
      "[Parallel(n_jobs=10)]: Done 18150 tasks      | elapsed: 13.4min\n",
      "[Parallel(n_jobs=10)]: Done 19200 out of 19200 | elapsed: 18.2min finished\n"
     ]
    },
    {
     "data": {
      "text/plain": [
       "GridSearchCV(cv=None, error_score=nan,\n",
       "             estimator=SGDClassifier(alpha=0.0001, average=False,\n",
       "                                     class_weight=None, early_stopping=False,\n",
       "                                     epsilon=0.1, eta0=0.0, fit_intercept=True,\n",
       "                                     l1_ratio=0.15, learning_rate='optimal',\n",
       "                                     loss='hinge', max_iter=1000,\n",
       "                                     n_iter_no_change=5, n_jobs=None,\n",
       "                                     penalty='l2', power_t=0.5,\n",
       "                                     random_state=None, shuffle=True, tol=0.001,\n",
       "                                     validation_fraction=0...\n",
       "             param_grid={'alpha': [0.001, 0.0001, 0.1, 0.01],\n",
       "                         'early_stopping': [True, False],\n",
       "                         'epsilon': [0.1, 0.01],\n",
       "                         'l1_ratio': [0.15, 0.45, 0.01, 0.015],\n",
       "                         'loss': ['hinge', 'log', 'perceptron',\n",
       "                                  'modified_huber', 'squared_hinge'],\n",
       "                         'max_iter': [1000, 3000], 'penalty': ['l2', 'l1'],\n",
       "                         'tol': [0.001, 0.01, 0.1]},\n",
       "             pre_dispatch='2*n_jobs', refit=True, return_train_score=False,\n",
       "             scoring=None, verbose=2)"
      ]
     },
     "execution_count": 16,
     "metadata": {},
     "output_type": "execute_result"
    }
   ],
   "source": [
    "x_train_new = x_train[columns]\n",
    "x_test_new= x_test[columns]\n",
    "param_grid = {\n",
    "    'loss': ['hinge', 'log', 'perceptron', 'modified_huber', 'squared_hinge'],\n",
    "    'penalty': ['l2', 'l1'],\n",
    "    'alpha': [.001, .0001, .1, .01],\n",
    "    'l1_ratio': [.15, .45, .01, .015],\n",
    "    'max_iter': [1000, 3000],\n",
    "    'tol': [.001, .01, .1],\n",
    "    'epsilon': [.1, .01],\n",
    "    'early_stopping': [True, False]\n",
    "}\n",
    "svm = SGDClassifier()\n",
    "gs = GridSearchCV(svm, param_grid = param_grid, verbose = 2, n_jobs = 10)\n",
    "gs.fit(x_train_new, y_train)"
   ]
  },
  {
   "cell_type": "code",
   "execution_count": 17,
   "metadata": {},
   "outputs": [
    {
     "data": {
      "text/plain": [
       "SGDClassifier(alpha=0.0001, average=False, class_weight=None,\n",
       "              early_stopping=True, epsilon=0.01, eta0=0.0, fit_intercept=True,\n",
       "              l1_ratio=0.45, learning_rate='optimal', loss='hinge',\n",
       "              max_iter=1000, n_iter_no_change=5, n_jobs=None, penalty='l2',\n",
       "              power_t=0.5, random_state=None, shuffle=True, tol=0.1,\n",
       "              validation_fraction=0.1, verbose=0, warm_start=False)"
      ]
     },
     "execution_count": 17,
     "metadata": {},
     "output_type": "execute_result"
    }
   ],
   "source": [
    "pickle.dump(gs, open('../../../models/SGD_SVM_GridSearch.p', 'wb'))\n",
    "gs.best_estimator_"
   ]
  },
  {
   "cell_type": "code",
   "execution_count": null,
   "metadata": {},
   "outputs": [],
   "source": []
  },
  {
   "cell_type": "code",
   "execution_count": 18,
   "metadata": {},
   "outputs": [
    {
     "name": "stdout",
     "output_type": "stream",
     "text": [
      "Test Score: 0.7145751816657351\n",
      "Tuned ACC Score: 0.6971892456171424\n"
     ]
    }
   ],
   "source": [
    "\n",
    "svm_tuned = SGDClassifier(alpha=0.001, average=False, class_weight=None,\n",
    "              early_stopping=True, epsilon=0.1, eta0=0.0, fit_intercept=True,\n",
    "              l1_ratio=0.15, learning_rate='optimal', loss='squared_hinge',\n",
    "              max_iter=1000, n_iter_no_change=5, n_jobs=None, penalty='l1',\n",
    "              power_t=0.5, random_state=None, shuffle=True, tol=0.1,\n",
    "              validation_fraction=0.1, verbose=0, warm_start=False)\n",
    "\n",
    "svm_tuned.fit(x_train_new,y_train)\n",
    "test_pred = svm_tuned.predict(x_test_new)\n",
    "print(f'Test Score: {svm_tuned.score(x_test_new,y_test)}')\n",
    "print(f'Tuned ACC Score: {roc_auc_score(y_test, test_pred)}')"
   ]
  },
  {
   "cell_type": "code",
   "execution_count": null,
   "metadata": {},
   "outputs": [],
   "source": []
  }
 ],
 "metadata": {
  "kernelspec": {
   "display_name": "Python 3",
   "language": "python",
   "name": "python3"
  },
  "language_info": {
   "codemirror_mode": {
    "name": "ipython",
    "version": 3
   },
   "file_extension": ".py",
   "mimetype": "text/x-python",
   "name": "python",
   "nbconvert_exporter": "python",
   "pygments_lexer": "ipython3",
   "version": "3.7.6"
  }
 },
 "nbformat": 4,
 "nbformat_minor": 4
}
