{
 "cells": [
  {
   "cell_type": "code",
   "execution_count": 8,
   "metadata": {},
   "outputs": [],
   "source": [
    "from sklearn.neighbors import KNeighborsClassifier\n",
    "from sklearn.decomposition import PCA\n",
    "from sklearn.model_selection import RepeatedStratifiedKFold, cross_val_score, GridSearchCV\n",
    "import pandas as pd\n",
    "import pickle \n",
    "import numpy as np\n",
    "from tqdm import tqdm\n",
    "from sklearn.feature_selection import RFE, SelectFromModel\n",
    "from sklearn.metrics import roc_auc_score"
   ]
  },
  {
   "cell_type": "code",
   "execution_count": 9,
   "metadata": {},
   "outputs": [
    {
     "name": "stdout",
     "output_type": "stream",
     "text": [
      "Original X: (57247, 55)\tOriginal y: (57247, 1)\n",
      "Train X: (42935, 54)\tTrain y: (42935, 1)\n",
      "Test X: (14312, 54)\tTest y: (14312, 1)\n"
     ]
    }
   ],
   "source": [
    "def get_pickles(): \n",
    "    x_train = pickle.load(open(f'../../../data/processed/pickles/cluster_x_train.p', 'rb'))\n",
    "    x_test = pickle.load(open(f'../../../data/processed/pickles/cluster_x_test.p', 'rb'))\n",
    "    y_train = pickle.load(open(f'../../../data/processed/pickles/cluster_y_train.p', 'rb'))\n",
    "    y_test = pickle.load(open(f'../../../data/processed/pickles/cluster_y_test.p', 'rb'))\n",
    "    X = pickle.load(open('../../../data/processed/pickles/cluster_X.p', 'rb'))\n",
    "    y = pickle.load(open('../../../data/processed/pickles/cluster_y.p', 'rb'))\n",
    "\n",
    "    return (x_train, x_test, y_train, y_test), (X,y)\n",
    "\n",
    "(x_train, x_test, y_train, y_test), (X,y) = get_pickles()\n",
    "\n",
    "\n",
    "print(f'Original X: {X.shape}\\tOriginal y: {y.shape}')\n",
    "print(f'Train X: {x_train.shape}\\tTrain y: {y_train.shape}')\n",
    "print(f'Test X: {x_test.shape}\\tTest y: {y_test.shape}')\n",
    "\n",
    "y_train = y_train.values.ravel()\n",
    "y_test = y_test.values.ravel()"
   ]
  },
  {
   "cell_type": "code",
   "execution_count": 12,
   "metadata": {},
   "outputs": [
    {
     "name": "stdout",
     "output_type": "stream",
     "text": [
      "Vanilla ROC Score: 0.7142552307146847\n"
     ]
    }
   ],
   "source": [
    "#Vanilla \n",
    "knn = KNeighborsClassifier() \n",
    "knn.fit(x_train,y_train)\n",
    "test_pred = knn.predict(x_test)\n",
    "print(f'Vanilla ROC Score: {roc_auc_score(y_test, test_pred)}')"
   ]
  },
  {
   "cell_type": "code",
   "execution_count": 10,
   "metadata": {},
   "outputs": [
    {
     "name": "stderr",
     "output_type": "stream",
     "text": [
      "Testing 54 PCA Features || Best AUC: 0.7103010768779537 || Best n: 31: 100%|██████████████████████████████████████████████████████████████████████████████| 54/54 [01:25<00:00,  1.59s/it]\n"
     ]
    }
   ],
   "source": [
    "knn = KNeighborsClassifier()\n",
    "best_score = 0 \n",
    "best_i = 0\n",
    "r_back = [i for i in range(1,len(x_train.columns)+1)]\n",
    "pbar = tqdm(r_back)\n",
    "for i in pbar: \n",
    "    pbar.set_description(f'Testing {i} PCA Features || Best AUC: {best_score} || Best n: {best_i}')\n",
    "    pca = PCA(n_components = i)\n",
    "    pca.fit(x_train)\n",
    "    x_train_new = pca.transform(x_train)\n",
    "    x_test_new = pca.transform(x_test)\n",
    "    knn.fit(x_train_new,y_train)\n",
    "    pred = knn.predict(x_test_new)\n",
    "    roc_auc = roc_auc_score(y_test, pred)\n",
    "    if roc_auc > best_score: \n",
    "        best_score = roc_auc \n",
    "        best_i = i\n",
    "    #masks for columns that are important\n",
    "        pickle.dump(best_i, open('../../../models/KNN_PCA.p', 'wb'))"
   ]
  },
  {
   "cell_type": "code",
   "execution_count": null,
   "metadata": {},
   "outputs": [],
   "source": [
    "\n",
    "param_grid = {\n",
    "   \n",
    "    \n",
    "}\n",
    "x_train_new = x_train\n",
    "x_test_new= x_test\n",
    "lda = LinearDiscriminantAnalysis()\n",
    "gs = GridSearchCV(lda, param_grid = param_grid, verbose = 2, n_jobs = 10)\n",
    "gs.fit(x_train_new, y_train)"
   ]
  },
  {
   "cell_type": "code",
   "execution_count": null,
   "metadata": {},
   "outputs": [],
   "source": [
    "pickle.dump(gs, open('../../models/KNN_GridSearch.p', 'wb'))\n",
    "gs.best_estimator_"
   ]
  },
  {
   "cell_type": "code",
   "execution_count": null,
   "metadata": {},
   "outputs": [],
   "source": [
    "knn_tuned = KNeighborsClassifier()\n",
    "\n",
    "knn_tuned.fit(x_train_new,y_train)\n",
    "test_pred = knn_tuned.predict(x_test_new)\n",
    "print(f'Tuned ACC Score: {knn_tuned.score(x_test_new,y_test)}')\n",
    "print(f'Tuned ROC Score: {roc_auc_score(y_test, test_pred)}')"
   ]
  }
 ],
 "metadata": {
  "kernelspec": {
   "display_name": "Python 3",
   "language": "python",
   "name": "python3"
  },
  "language_info": {
   "codemirror_mode": {
    "name": "ipython",
    "version": 3
   },
   "file_extension": ".py",
   "mimetype": "text/x-python",
   "name": "python",
   "nbconvert_exporter": "python",
   "pygments_lexer": "ipython3",
   "version": "3.7.6"
  }
 },
 "nbformat": 4,
 "nbformat_minor": 4
}
